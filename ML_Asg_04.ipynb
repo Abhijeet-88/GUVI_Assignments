{
  "nbformat": 4,
  "nbformat_minor": 0,
  "metadata": {
    "colab": {
      "name": "ML Asg-04.ipynb",
      "provenance": [],
      "authorship_tag": "ABX9TyOs4a0kZT+i9Flx5bzaNyc/"
    },
    "kernelspec": {
      "name": "python3",
      "display_name": "Python 3"
    },
    "language_info": {
      "name": "python"
    }
  },
  "cells": [
    {
      "cell_type": "markdown",
      "source": [
        "Boston Housing Dataset -\n",
        "Predicting Median value of owner-occupied homes\n"
      ],
      "metadata": {
        "id": "PIzyTwRhC2S_"
      }
    },
    {
      "cell_type": "code",
      "execution_count": 2,
      "metadata": {
        "id": "ezHxgLuZCNcm"
      },
      "outputs": [],
      "source": [
        "import numpy as np\n",
        "\n",
        "phi = np.loadtxt('/content/train.csv', dtype='float', delimiter=',', skiprows=1, usecols=tuple(range(1, 14)))\n",
        "\n",
        "\n",
        "y = np.loadtxt('/content/train.csv', dtype='float', delimiter=',', skiprows=1, usecols=14, ndmin=2)\n",
        "\n",
        "\n",
        "phi_test = np.loadtxt('/content/test.csv', dtype='float', delimiter=',',skiprows=1, usecols=tuple(range(1, 14)))\n",
        "\n",
        "\n",
        "phi_test = np.concatenate((phi_test, np.ones((105, 1))), axis=1)\n",
        "phi = np.concatenate((phi, np.ones((400, 1))), axis=1)\n",
        "\n",
        "for i in range(0, 13):\n",
        "    col_max = max(phi[:, i])\n",
        "    col_min = min(phi[:, i])\n",
        "    phi[:, i] = (phi[:, i] - col_min) / (col_max - col_min)\n",
        "    phi_test[:, i] = (phi_test[:, i] - col_min) / (col_max - col_min)\n",
        "\n",
        "\n",
        "y = np.log(y)\n",
        "\n",
        "\n",
        "def delta_w(p, phi, w):\n",
        "    if p == 2:\n",
        "        deltaw = (2 * (np.dot(np.dot(np.transpose(phi), phi), w) - np.dot(np.transpose(phi), y)) + lambd * p * np.power(np.absolute(w), (p - 1)))\n",
        "    if p < 2 and p > 1:\n",
        "        deltaw = (2 * (np.dot(np.dot(np.transpose(phi), phi), w) - np.dot(np.transpose(phi), y)) + lambd * p * np.power(np.absolute(w), (p - 1)) * np.sign(w))\n",
        "    return deltaw\n",
        "\n",
        "\n",
        "filenames = {'output.csv': 2.0,\n",
        "             'output1.csv': 1.75,\n",
        "             'output2.csv': 1.5,\n",
        "             'output3.csv': 1.3\n",
        "             }\n",
        "\n",
        "for (fname, p) in filenames.items():\n",
        "    w = np.zeros((14, 1))\n",
        "    lambd = 0.2\n",
        "    t = 0.00012\n",
        "    w_new = w - t * delta_w(p, phi, w)\n",
        "\n",
        "    i = 0\n",
        "    while(np.linalg.norm(w_new-w) > 10 ** -10):\n",
        "        w = w_new\n",
        "        w_new = w - t * delta_w(p, phi, w)\n",
        "        i = i + 1\n",
        "    id_test = np.loadtxt('/content/test.csv', dtype='int', delimiter=',', skiprows=1, usecols=0, ndmin=2)\n",
        "    y_test = np.exp(np.dot(phi_test, w_new))\n",
        "    np.savetxt(fname, np.concatenate((id_test, y_test), axis=1), delimiter=',', fmt=['%d', '%f'], header='ID,MEDV', comments='')"
      ]
    },
    {
      "cell_type": "code",
      "source": [
        ""
      ],
      "metadata": {
        "id": "VYxPRZ3LCUV-"
      },
      "execution_count": null,
      "outputs": []
    }
  ]
}