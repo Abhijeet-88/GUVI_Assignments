{
  "cells": [
    {
      "cell_type": "markdown",
      "metadata": {
        "id": "PLEdB8dU5RNB"
      },
      "source": [
        "# Numpy\n",
        "\n"
      ]
    },
    {
      "cell_type": "markdown",
      "metadata": {
        "id": "KuzORej25RNF"
      },
      "source": [
        "#### 1. Import the numpy package under the name `np` (★☆☆) \n",
        "(**hint**: import … as …)"
      ]
    },
    {
      "cell_type": "code",
      "execution_count": 2,
      "metadata": {
        "collapsed": true,
        "id": "lvX7KR2v5RNG"
      },
      "outputs": [],
      "source": [
        "import numpy as np"
      ]
    },
    {
      "cell_type": "markdown",
      "metadata": {
        "id": "voCbjTz65RNH"
      },
      "source": [
        "#### 2. Print the numpy version and the configuration (★☆☆) \n",
        "(**hint**: np.\\_\\_version\\_\\_, np.show\\_config)"
      ]
    },
    {
      "cell_type": "code",
      "execution_count": null,
      "metadata": {
        "colab": {
          "base_uri": "https://localhost:8080/",
          "height": 35
        },
        "id": "aTugwup-5RNH",
        "outputId": "13d02d6a-4903-4e4e-de2c-6b6798297fac"
      },
      "outputs": [
        {
          "output_type": "execute_result",
          "data": {
            "text/plain": [
              "'1.21.5'"
            ],
            "application/vnd.google.colaboratory.intrinsic+json": {
              "type": "string"
            }
          },
          "metadata": {},
          "execution_count": 2
        }
      ],
      "source": [
        "np.__version__"
      ]
    },
    {
      "cell_type": "markdown",
      "metadata": {
        "id": "eT8I8zS95RNI"
      },
      "source": [
        "#### 3. Create a null vector of size 10 (★☆☆) \n",
        "(**hint**: np.zeros)"
      ]
    },
    {
      "cell_type": "code",
      "execution_count": null,
      "metadata": {
        "colab": {
          "base_uri": "https://localhost:8080/"
        },
        "id": "LkKRHQEi5RNI",
        "outputId": "868e74df-90b1-4479-f9fb-f47a7358403a"
      },
      "outputs": [
        {
          "output_type": "stream",
          "name": "stdout",
          "text": [
            "[0. 0. 0. 0. 0. 0. 0. 0. 0. 0.]\n"
          ]
        }
      ],
      "source": [
        "arr = np.zeros(10)\n",
        "print(arr)"
      ]
    },
    {
      "cell_type": "markdown",
      "metadata": {
        "id": "x6jHnk9k5RNJ"
      },
      "source": [
        "#### 4.  How to find the memory size of any array (★☆☆) \n",
        "(**hint**: size, itemsize)"
      ]
    },
    {
      "cell_type": "code",
      "execution_count": null,
      "metadata": {
        "colab": {
          "base_uri": "https://localhost:8080/"
        },
        "id": "CLg100qe5RNJ",
        "outputId": "4cceeecf-b9e6-4a94-d81f-52f2ca098e69"
      },
      "outputs": [
        {
          "output_type": "stream",
          "name": "stdout",
          "text": [
            "4 8\n"
          ]
        }
      ],
      "source": [
        "a = np.array([1,10,100,1000])\n",
        "print(a.size, a.itemsize)"
      ]
    },
    {
      "cell_type": "markdown",
      "metadata": {
        "id": "GV-XTOHx5RNK"
      },
      "source": [
        "#### 5.  How to get the documentation of the numpy add function from the command line? (★☆☆) \n",
        "(**hint**: np.info)"
      ]
    },
    {
      "cell_type": "code",
      "execution_count": null,
      "metadata": {
        "collapsed": true,
        "colab": {
          "base_uri": "https://localhost:8080/"
        },
        "id": "xt-r9JEx5RNK",
        "outputId": "a1fc6134-50c6-4dcd-f74e-451b3270e247"
      },
      "outputs": [
        {
          "output_type": "stream",
          "name": "stdout",
          "text": [
            "None\n"
          ]
        }
      ],
      "source": [
        "print(np.info(np.add))"
      ]
    },
    {
      "cell_type": "markdown",
      "metadata": {
        "id": "Bpgz4zFU5RNL"
      },
      "source": [
        "#### 6.  Create a null vector of size 10 but the fifth value which is 1 (★☆☆) \n",
        "(**hint**: array\\[4\\])"
      ]
    },
    {
      "cell_type": "code",
      "execution_count": null,
      "metadata": {
        "colab": {
          "base_uri": "https://localhost:8080/"
        },
        "id": "ZnZGgFN-5RNL",
        "outputId": "877123c8-affd-4abb-c921-6f10b461da54"
      },
      "outputs": [
        {
          "output_type": "stream",
          "name": "stdout",
          "text": [
            "[0. 0. 0. 0. 1. 0. 0. 0. 0. 0.]\n"
          ]
        }
      ],
      "source": [
        "n = np.zeros(10)\n",
        "#print(n)\n",
        "n[4]=1\n",
        "print(n)"
      ]
    },
    {
      "cell_type": "markdown",
      "metadata": {
        "id": "_8lDC8Hu5RNL"
      },
      "source": [
        "#### 7.  Create a vector with values ranging from 10 to 49 (★☆☆) \n",
        "(**hint**: np.arange)"
      ]
    },
    {
      "cell_type": "code",
      "execution_count": null,
      "metadata": {
        "colab": {
          "base_uri": "https://localhost:8080/"
        },
        "id": "z1sLmC_25RNM",
        "outputId": "1c68b9b5-2690-4cd2-e260-fe2fa618e51a"
      },
      "outputs": [
        {
          "output_type": "stream",
          "name": "stdout",
          "text": [
            "[10 11 12 13 14 15 16 17 18 19 20 21 22 23 24 25 26 27 28 29 30 31 32 33\n",
            " 34 35 36 37 38 39 40 41 42 43 44 45 46 47 48]\n"
          ]
        }
      ],
      "source": [
        "n = np.arange(10,49)\n",
        "print(n)"
      ]
    },
    {
      "cell_type": "markdown",
      "metadata": {
        "id": "qZmIWyC-5RNM"
      },
      "source": [
        "#### 8.  Reverse a vector (first element becomes last) (★☆☆) \n",
        "(**hint**: array\\[::-1\\])"
      ]
    },
    {
      "cell_type": "code",
      "execution_count": null,
      "metadata": {
        "colab": {
          "base_uri": "https://localhost:8080/"
        },
        "id": "4ftE7cMC5RNM",
        "outputId": "b0cd17bd-575b-4d9f-db6a-76311ceac7bd"
      },
      "outputs": [
        {
          "output_type": "stream",
          "name": "stdout",
          "text": [
            "[4 3 2 1]\n"
          ]
        }
      ],
      "source": [
        "n = np.array([1,2,3,4])\n",
        "print(n[::-1])"
      ]
    },
    {
      "cell_type": "markdown",
      "metadata": {
        "id": "zpAyL-Z45RNM"
      },
      "source": [
        "#### 9.  Create a 3x3 matrix with values ranging from 0 to 8 (★☆☆) \n",
        "(**hint**: reshape)"
      ]
    },
    {
      "cell_type": "code",
      "execution_count": null,
      "metadata": {
        "colab": {
          "base_uri": "https://localhost:8080/"
        },
        "id": "RbV-gKa85RNN",
        "outputId": "6e0d7594-9d9a-42de-ca51-ca8e2d6d0a03"
      },
      "outputs": [
        {
          "output_type": "stream",
          "name": "stdout",
          "text": [
            "[[0 1 2]\n",
            " [3 4 5]\n",
            " [6 7 8]]\n"
          ]
        }
      ],
      "source": [
        "n = np.arange(0,9).reshape(3,3)\n",
        "print(n)\n"
      ]
    },
    {
      "cell_type": "markdown",
      "metadata": {
        "id": "nQY-yr2Y5RNN"
      },
      "source": [
        "#### 10. Find indices of non-zero elements from \\[1,2,0,0,4,0\\] (★☆☆) \n",
        "(**hint**: np.nonzero)"
      ]
    },
    {
      "cell_type": "code",
      "execution_count": null,
      "metadata": {
        "colab": {
          "base_uri": "https://localhost:8080/"
        },
        "id": "F8Pqtl-e5RNO",
        "outputId": "0b6bfdff-5b21-489e-dc94-c48d19c0e598"
      },
      "outputs": [
        {
          "output_type": "stream",
          "name": "stdout",
          "text": [
            "(array([0, 1, 4]),)\n"
          ]
        }
      ],
      "source": [
        "n = np.array([1,2,0,0,4,0])\n",
        "print(np.nonzero(n))"
      ]
    },
    {
      "cell_type": "markdown",
      "metadata": {
        "id": "wNz3yEQ35RNO"
      },
      "source": [
        "#### 11. Create a 3x3 identity matrix (★☆☆) \n",
        "(**hint**: np.eye)"
      ]
    },
    {
      "cell_type": "code",
      "execution_count": null,
      "metadata": {
        "colab": {
          "base_uri": "https://localhost:8080/"
        },
        "id": "ptRxF6Bz5RNO",
        "outputId": "03d93a21-f33e-46a2-f187-484068a90b1b"
      },
      "outputs": [
        {
          "output_type": "stream",
          "name": "stdout",
          "text": [
            "[[1. 0. 0.]\n",
            " [0. 1. 0.]\n",
            " [0. 0. 1.]]\n"
          ]
        }
      ],
      "source": [
        "n= np.identity(3)\n",
        "print(n)"
      ]
    },
    {
      "cell_type": "markdown",
      "metadata": {
        "id": "Xw1rBNnJ5RNO"
      },
      "source": [
        "#### 12. Create a 3x3x3 array with random values (★☆☆) \n",
        "(**hint**: np.random.random)"
      ]
    },
    {
      "cell_type": "code",
      "execution_count": null,
      "metadata": {
        "collapsed": true,
        "colab": {
          "base_uri": "https://localhost:8080/"
        },
        "id": "Ut93I7tB5RNO",
        "outputId": "b844d83b-57aa-4816-c638-67ad98d48123"
      },
      "outputs": [
        {
          "output_type": "stream",
          "name": "stdout",
          "text": [
            "[[[0.67328979 0.95151972 0.50775561]\n",
            "  [0.20590087 0.10686456 0.0782508 ]\n",
            "  [0.54864434 0.23102382 0.25843533]]\n",
            "\n",
            " [[0.8447385  0.34845404 0.40420502]\n",
            "  [0.08366354 0.77219947 0.52311799]\n",
            "  [0.37042988 0.64397769 0.59077445]]\n",
            "\n",
            " [[0.12214202 0.72959407 0.93411238]\n",
            "  [0.49591954 0.32386537 0.619946  ]\n",
            "  [0.90459561 0.96043501 0.78981614]]]\n"
          ]
        }
      ],
      "source": [
        "n = np.random.random((3,3,3))\n",
        "print(n)"
      ]
    },
    {
      "cell_type": "markdown",
      "metadata": {
        "id": "dwbn-zmL5RNP"
      },
      "source": [
        "#### 13. Create a 10x10 array with random values and find the minimum and maximum values (★☆☆) \n",
        "(**hint**: min, max)"
      ]
    },
    {
      "cell_type": "code",
      "execution_count": null,
      "metadata": {
        "colab": {
          "base_uri": "https://localhost:8080/"
        },
        "id": "st7FN9Of5RNP",
        "outputId": "c0d17a80-814a-4924-e34a-521b12a9320b"
      },
      "outputs": [
        {
          "output_type": "stream",
          "name": "stdout",
          "text": [
            "0.013891935172058112 0.9838732776631006\n"
          ]
        }
      ],
      "source": [
        "n = np.random.random((5,5))\n",
        "#print(n)\n",
        "print(n.min(), n.max())"
      ]
    },
    {
      "cell_type": "markdown",
      "metadata": {
        "id": "tfy9Mg4U5RNP"
      },
      "source": [
        "#### 14. Create a random vector of size 30 and find the mean value (★☆☆) \n",
        "(**hint**: mean)"
      ]
    },
    {
      "cell_type": "code",
      "execution_count": null,
      "metadata": {
        "colab": {
          "base_uri": "https://localhost:8080/"
        },
        "id": "oXNkNdHN5RNP",
        "outputId": "c94bb762-aba1-4afe-cb75-22a1abe4bbd1"
      },
      "outputs": [
        {
          "output_type": "stream",
          "name": "stdout",
          "text": [
            "0.5175703093341927\n"
          ]
        }
      ],
      "source": [
        "n = np.random.random(30)\n",
        "#print(n)\n",
        "print(np.mean(n))"
      ]
    },
    {
      "cell_type": "markdown",
      "metadata": {
        "id": "N-m_D9Hp5RNP"
      },
      "source": [
        "#### 15. Create a 2d array with 1 on the border and 0 inside (★☆☆) \n",
        "(**hint**: array\\[1:-1, 1:-1\\])"
      ]
    },
    {
      "cell_type": "code",
      "execution_count": null,
      "metadata": {
        "colab": {
          "base_uri": "https://localhost:8080/"
        },
        "id": "vIVqla_z5RNP",
        "outputId": "3ec3bfbf-0b75-425c-9949-7b36f087ce2c"
      },
      "outputs": [
        {
          "output_type": "stream",
          "name": "stdout",
          "text": [
            "[[1. 1. 1. 1. 1. 1.]\n",
            " [0. 0. 0. 0. 0. 0.]\n",
            " [0. 0. 0. 0. 0. 0.]\n",
            " [0. 0. 0. 0. 0. 0.]\n",
            " [0. 0. 0. 0. 0. 0.]\n",
            " [1. 1. 1. 1. 1. 1.]]\n"
          ]
        }
      ],
      "source": [
        "n = np.ones((6,6))\n",
        "#print(n)\n",
        "n[1:-1] = 0\n",
        "print(n)"
      ]
    },
    {
      "cell_type": "markdown",
      "metadata": {
        "id": "I8KysTzX5RNQ"
      },
      "source": [
        "#### 16. How to add a border (filled with 0's) around an existing array? (★☆☆) \n",
        "(**hint**: np.pad)"
      ]
    },
    {
      "cell_type": "code",
      "execution_count": null,
      "metadata": {
        "colab": {
          "base_uri": "https://localhost:8080/"
        },
        "id": "rgBjQyXL5RNQ",
        "outputId": "77e28b9b-1997-42d1-a395-694385f6387b"
      },
      "outputs": [
        {
          "output_type": "stream",
          "name": "stdout",
          "text": [
            "\n",
            "[[0. 0. 0. 0. 0. 0. 0.]\n",
            " [0. 1. 1. 1. 1. 1. 0.]\n",
            " [0. 1. 1. 1. 1. 1. 0.]\n",
            " [0. 1. 1. 1. 1. 1. 0.]\n",
            " [0. 1. 1. 1. 1. 1. 0.]\n",
            " [0. 1. 1. 1. 1. 1. 0.]\n",
            " [0. 0. 0. 0. 0. 0. 0.]]\n"
          ]
        }
      ],
      "source": [
        "n = np.ones((5,5))\n",
        "#print(n)\n",
        "print(\"\")\n",
        "m = np.pad(n, pad_width=1, mode='constant', constant_values=0)\n",
        "print(m)"
      ]
    },
    {
      "cell_type": "markdown",
      "metadata": {
        "id": "sH1AiMTg5RNQ"
      },
      "source": [
        "#### 17. What is the result of the following expression? (★☆☆) \n",
        "(**hint**: NaN = not a number, inf = infinity)"
      ]
    },
    {
      "cell_type": "markdown",
      "metadata": {
        "id": "Idau9fbF5RNQ"
      },
      "source": [
        "```python\n",
        "0 * np.nan\n",
        "np.nan == np.nan\n",
        "np.inf > np.nan\n",
        "np.nan - np.nan\n",
        "0.3 == 3 * 0.1\n",
        "```"
      ]
    },
    {
      "cell_type": "code",
      "execution_count": null,
      "metadata": {
        "colab": {
          "base_uri": "https://localhost:8080/"
        },
        "id": "fY6WVPIT5RNQ",
        "outputId": "7df5a205-08f2-4175-e878-cf3779bdfef2"
      },
      "outputs": [
        {
          "output_type": "stream",
          "name": "stdout",
          "text": [
            "nan\n",
            "False\n",
            "False\n",
            "nan\n",
            "False\n"
          ]
        }
      ],
      "source": [
        "print(0 * np.nan)\n",
        "print(np.nan == np.nan)\n",
        "print(np.inf > np.nan)\n",
        "print(np.nan - np.nan)\n",
        "print(0.3 == 3 * 0.1)"
      ]
    },
    {
      "cell_type": "markdown",
      "metadata": {
        "id": "LAd8MyOR5RNR"
      },
      "source": [
        "#### 18. Create a 5x5 matrix with values 1,2,3,4 just below the diagonal (★☆☆) \n",
        "(**hint**: np.diag)"
      ]
    },
    {
      "cell_type": "code",
      "execution_count": null,
      "metadata": {
        "colab": {
          "base_uri": "https://localhost:8080/"
        },
        "id": "oYu6rJBv5RNR",
        "outputId": "10fa62d1-f84b-4bd9-e542-5f638ffd5da7"
      },
      "outputs": [
        {
          "output_type": "stream",
          "name": "stdout",
          "text": [
            "[[1 0 0 0 0]\n",
            " [0 2 0 0 0]\n",
            " [0 0 3 0 0]\n",
            " [0 0 0 4 0]\n",
            " [0 0 0 0 5]]\n"
          ]
        }
      ],
      "source": [
        "n = np.diag([1,2,3,4,5])\n",
        "print(n)"
      ]
    },
    {
      "cell_type": "markdown",
      "metadata": {
        "id": "6IL2DcPB5RNR"
      },
      "source": [
        "#### 19. Create a 8x8 matrix and fill it with a checkerboard pattern (★☆☆) \n",
        "(**hint**: array\\[::2\\])"
      ]
    },
    {
      "cell_type": "code",
      "execution_count": null,
      "metadata": {
        "colab": {
          "base_uri": "https://localhost:8080/"
        },
        "id": "95objE825RNR",
        "outputId": "083ee480-c623-4b75-8b0e-3edbbbab4f31"
      },
      "outputs": [
        {
          "output_type": "stream",
          "name": "stdout",
          "text": [
            "[[0 1 0 1 0 1 0 1]\n",
            " [1 0 1 0 1 0 1 0]\n",
            " [0 1 0 1 0 1 0 1]\n",
            " [1 0 1 0 1 0 1 0]\n",
            " [0 1 0 1 0 1 0 1]\n",
            " [1 0 1 0 1 0 1 0]\n",
            " [0 1 0 1 0 1 0 1]\n",
            " [1 0 1 0 1 0 1 0]]\n"
          ]
        }
      ],
      "source": [
        "x = np.zeros((8,8),dtype=int)\n",
        "x[::2,1::2] = 1\n",
        "x[1::2,::2] = 1\n",
        "print(x)"
      ]
    },
    {
      "cell_type": "markdown",
      "metadata": {
        "id": "LPDlEHIX5RNR"
      },
      "source": [
        "#### 20. Consider a (6,7,8) shape array, what is the index (x,y,z) of the 100th element? \n",
        "(**hint**: np.unravel_index)"
      ]
    },
    {
      "cell_type": "code",
      "execution_count": null,
      "metadata": {
        "colab": {
          "base_uri": "https://localhost:8080/"
        },
        "id": "JHK2lKiU5RNR",
        "outputId": "f8cc17c5-e23f-4991-a6f0-489b5cfba640"
      },
      "outputs": [
        {
          "output_type": "stream",
          "name": "stdout",
          "text": [
            "(1, 5, 4)\n"
          ]
        }
      ],
      "source": [
        "print (np.unravel_index(100, (6,7,8)))"
      ]
    },
    {
      "cell_type": "markdown",
      "metadata": {
        "id": "MTdJnwS15RNS"
      },
      "source": [
        "#### 21. Create a checkerboard 8x8 matrix using the tile function (★☆☆) \n",
        "(**hint**: np.tile)"
      ]
    },
    {
      "cell_type": "code",
      "execution_count": null,
      "metadata": {
        "colab": {
          "base_uri": "https://localhost:8080/"
        },
        "id": "mgnFXXrg5RNS",
        "outputId": "6a6be9bd-5d93-45c4-cd8d-355653706de5"
      },
      "outputs": [
        {
          "output_type": "stream",
          "name": "stdout",
          "text": [
            "[[0 1 0 1 0 1 0 1]\n",
            " [1 0 1 0 1 0 1 0]\n",
            " [0 1 0 1 0 1 0 1]\n",
            " [1 0 1 0 1 0 1 0]\n",
            " [0 1 0 1 0 1 0 1]\n",
            " [1 0 1 0 1 0 1 0]\n",
            " [0 1 0 1 0 1 0 1]\n",
            " [1 0 1 0 1 0 1 0]]\n"
          ]
        }
      ],
      "source": [
        "n = np.array([[0,1],[1,0]])\n",
        "#print(n)\n",
        "m = np.tile(n,(4,4))\n",
        "print(m)"
      ]
    },
    {
      "cell_type": "markdown",
      "metadata": {
        "id": "KXEc31085RNS"
      },
      "source": [
        "#### 22. Normalize a 5x5 random matrix (★☆☆) \n",
        "(**hint**: (x - min) / (max - min))"
      ]
    },
    {
      "cell_type": "code",
      "execution_count": null,
      "metadata": {
        "colab": {
          "base_uri": "https://localhost:8080/"
        },
        "id": "oxHg9E-s5RNS",
        "outputId": "9f6a3fa4-2810-45ec-80de-eaa01641dcc6"
      },
      "outputs": [
        {
          "output_type": "stream",
          "name": "stdout",
          "text": [
            "[[0.2951036  0.72193236 0.76152354 0.96502847 0.58209586]\n",
            " [0.76259986 1.         0.51640266 0.732651   0.78111259]\n",
            " [0.68211668 0.747043   0.57075371 0.95103211 0.6231023 ]\n",
            " [0.23148052 0.95516108 0.69540908 0.78078654 0.11201921]\n",
            " [0.         0.9044427  0.57206334 0.79707948 0.70974605]]\n"
          ]
        }
      ],
      "source": [
        "n = np.random.random((5,5))\n",
        "#print(n)\n",
        "min = n.min()\n",
        "max = n.max()\n",
        "\n",
        "N = (n-min)/(max-min)\n",
        "print(N)"
      ]
    },
    {
      "cell_type": "markdown",
      "metadata": {
        "id": "_dh49M1m5RNS"
      },
      "source": [
        "#### 23. Create a custom dtype that describes a color as four unsigned bytes (RGBA) (★☆☆) \n",
        "(**hint**: np.dtype)"
      ]
    },
    {
      "cell_type": "code",
      "execution_count": null,
      "metadata": {
        "collapsed": true,
        "id": "ngzFmUuu5RNS",
        "colab": {
          "base_uri": "https://localhost:8080/"
        },
        "outputId": "0b7d3b2e-4eb9-4340-a2bb-1f45a046221d"
      },
      "outputs": [
        {
          "output_type": "stream",
          "name": "stdout",
          "text": [
            "[('r', 'u1'), ('y', 'u1'), ('b', 'u1'), ('o', 'u1')]\n"
          ]
        }
      ],
      "source": [
        "color = np.dtype([(\"r\",np.ubyte), (\"y\", np.ubyte), (\"b\", np.ubyte), (\"o\", np.ubyte)  ])\n",
        "print(color)"
      ]
    },
    {
      "cell_type": "markdown",
      "metadata": {
        "id": "2LpZs3zz5RNS"
      },
      "source": [
        "#### 24. Multiply a 5x3 matrix by a 3x2 matrix (real matrix product) (★☆☆) \n",
        "(**hint**: np.dot | @)"
      ]
    },
    {
      "cell_type": "code",
      "execution_count": null,
      "metadata": {
        "colab": {
          "base_uri": "https://localhost:8080/"
        },
        "id": "kuqDn9eF5RNT",
        "outputId": "d7ebb354-f1cf-46a7-ba82-0164c0378af8"
      },
      "outputs": [
        {
          "output_type": "stream",
          "name": "stdout",
          "text": [
            "[[3. 3.]\n",
            " [3. 3.]\n",
            " [3. 3.]\n",
            " [3. 3.]\n",
            " [3. 3.]]\n"
          ]
        }
      ],
      "source": [
        "Z= np.dot(np.ones((5,3)), np.ones((3,2)))\n",
        "print (Z)"
      ]
    },
    {
      "cell_type": "markdown",
      "metadata": {
        "id": "wVa-Enb35RNT"
      },
      "source": [
        "#### 25. Given a 1D array, negate all elements which are between 3 and 8, in place. (★☆☆) \n",
        "(**hint**: >, <=)"
      ]
    },
    {
      "cell_type": "code",
      "execution_count": null,
      "metadata": {
        "id": "oNgm05Ie5RNT",
        "colab": {
          "base_uri": "https://localhost:8080/"
        },
        "outputId": "2edcb4c7-fffe-479b-bd37-b50703a803aa"
      },
      "outputs": [
        {
          "output_type": "stream",
          "name": "stdout",
          "text": [
            "[ 0  1  2  3 -4 -5 -6 -7  8  9 10]\n"
          ]
        }
      ],
      "source": [
        "a = np.arange(11)\n",
        "#a\n",
        "a[(3<a)&(8>a)] *= -1\n",
        "print(a)"
      ]
    },
    {
      "cell_type": "markdown",
      "metadata": {
        "id": "q85HZCb95RNT"
      },
      "source": [
        "#### 26. What is the output of the following script? (★☆☆) \n",
        "(**hint**: np.sum)"
      ]
    },
    {
      "cell_type": "markdown",
      "metadata": {
        "id": "qQRm9M-R5RNT"
      },
      "source": [
        "```python\n",
        "# Author: Jake VanderPlas\n",
        "\n",
        "print(sum(range(5),-1))\n",
        "from numpy import *\n",
        "print(sum(range(5),-1))\n",
        "```"
      ]
    },
    {
      "cell_type": "code",
      "execution_count": null,
      "metadata": {
        "id": "HDGsQ6325RNU",
        "colab": {
          "base_uri": "https://localhost:8080/"
        },
        "outputId": "d18ae6f1-6286-4dd7-bd52-e5756047865a"
      },
      "outputs": [
        {
          "output_type": "stream",
          "name": "stdout",
          "text": [
            "9\n",
            "10\n"
          ]
        }
      ],
      "source": [
        "print(sum(range(5),-1))\n",
        "from numpy import *\n",
        "print(sum(range(5),-1))"
      ]
    },
    {
      "cell_type": "markdown",
      "metadata": {
        "id": "zl79bLue5RNU"
      },
      "source": [
        "#### 27. Consider an integer vector Z, which of these expressions are legal? (★☆☆)"
      ]
    },
    {
      "cell_type": "markdown",
      "metadata": {
        "id": "Xiw2k2X75RNU"
      },
      "source": [
        "```python\n",
        "Z**Z\n",
        "2 << Z >> 2\n",
        "Z <- Z\n",
        "1j*Z\n",
        "Z/1/1\n",
        "Z<Z>Z\n",
        "```"
      ]
    },
    {
      "cell_type": "code",
      "execution_count": null,
      "metadata": {
        "id": "DnfRtKuD5RNU",
        "colab": {
          "base_uri": "https://localhost:8080/"
        },
        "outputId": "bda8e2f8-97cc-43a1-be96-c2f7b9fcff05"
      },
      "outputs": [
        {
          "output_type": "stream",
          "name": "stdout",
          "text": [
            "[        1         1         4        27       256      3125     46656\n",
            "    823543  16777216 387420489]\n",
            "[  0   1   2   4   8  16  32  64 128 256]\n",
            "[False False False False False False False False False False]\n",
            "[0.+0.j 0.+1.j 0.+2.j 0.+3.j 0.+4.j 0.+5.j 0.+6.j 0.+7.j 0.+8.j 0.+9.j]\n",
            "[0. 1. 2. 3. 4. 5. 6. 7. 8. 9.]\n"
          ]
        }
      ],
      "source": [
        "Z = np.arange(10)\n",
        "#Z\n",
        "print(Z**Z)\n",
        "print(2 << Z >> 2)\n",
        "print(Z <- Z)\n",
        "print(1j*Z)\n",
        "print(Z/1/1)\n",
        "#print(Z<Z>Z)"
      ]
    },
    {
      "cell_type": "markdown",
      "metadata": {
        "id": "NTI0I4jb5RNU"
      },
      "source": [
        "#### 28. What are the result of the following expressions?"
      ]
    },
    {
      "cell_type": "markdown",
      "metadata": {
        "id": "o7n1ZBpT5RNU"
      },
      "source": [
        "```python\n",
        "np.array(0) / np.array(0)\n",
        "np.array(0) // np.array(0)\n",
        "np.array([np.nan]).astype(int).astype(float)\n",
        "```"
      ]
    },
    {
      "cell_type": "code",
      "execution_count": null,
      "metadata": {
        "id": "LaedMcq65RNU",
        "colab": {
          "base_uri": "https://localhost:8080/"
        },
        "outputId": "39145247-7c91-4143-f99f-6cb1bf57fc81"
      },
      "outputs": [
        {
          "output_type": "stream",
          "name": "stdout",
          "text": [
            "nan\n",
            "0\n",
            "[-9.22337204e+18]\n"
          ]
        },
        {
          "output_type": "stream",
          "name": "stderr",
          "text": [
            "/usr/local/lib/python3.7/dist-packages/ipykernel_launcher.py:3: RuntimeWarning: invalid value encountered in true_divide\n",
            "  This is separate from the ipykernel package so we can avoid doing imports until\n",
            "/usr/local/lib/python3.7/dist-packages/ipykernel_launcher.py:4: RuntimeWarning: divide by zero encountered in floor_divide\n",
            "  after removing the cwd from sys.path.\n"
          ]
        }
      ],
      "source": [
        "import numpy as np\n",
        "\n",
        "print( np.array(0) / np.array(0) )\n",
        "print( np.array(0) // np.array(0) )\n",
        "print( np.array([np.nan]).astype(int).astype(float) )"
      ]
    },
    {
      "cell_type": "markdown",
      "metadata": {
        "id": "q_AF8Jdx5RNV"
      },
      "source": [
        "#### 29. How to round away from zero a float array ? (★☆☆) \n",
        "(**hint**: np.uniform, np.copysign, np.ceil, np.abs)"
      ]
    },
    {
      "cell_type": "code",
      "execution_count": null,
      "metadata": {
        "id": "nHxG5uj05RNV",
        "colab": {
          "base_uri": "https://localhost:8080/"
        },
        "outputId": "7aa2ea72-7b05-497d-c788-7754bbb94597"
      },
      "outputs": [
        {
          "output_type": "stream",
          "name": "stdout",
          "text": [
            "Z:  [ 4.39381756  2.80582368  3.70764891 -0.88756389 -1.48916198]\n",
            "Ceil:  [ 5.  3.  4. -0. -1.]\n",
            "Floor:  [ 4.  2.  3. -1. -2.]\n",
            "Abs:  [4.39381756 2.80582368 3.70764891 0.88756389 1.48916198]\n",
            "Copysign:  [ 4.  2.  3. -1. -2.]\n"
          ]
        }
      ],
      "source": [
        "z = np.random.uniform(-5, +5, 5)\n",
        "print(\"Z: \",z)\n",
        "\n",
        "z1 = np.ceil(z)\n",
        "print(\"Ceil: \",z1)\n",
        "\n",
        "z2 = np.floor(z)\n",
        "print(\"Floor: \",z2)\n",
        "\n",
        "z3 = np.abs(z)\n",
        "print(\"Abs: \",z3)\n",
        "\n",
        "z4 = np.copysign(z2,z)\n",
        "print(\"Copysign: \",z4)\n"
      ]
    },
    {
      "cell_type": "markdown",
      "metadata": {
        "id": "k3gJxxWJ5RNV"
      },
      "source": [
        "#### 30. How to find common values between two arrays? (★☆☆) \n",
        "(**hint**: np.intersect1d)"
      ]
    },
    {
      "cell_type": "code",
      "execution_count": null,
      "metadata": {
        "id": "SIPmujZ75RNV",
        "colab": {
          "base_uri": "https://localhost:8080/"
        },
        "outputId": "c275979d-5f71-4962-a451-9341adb71d1a"
      },
      "outputs": [
        {
          "output_type": "stream",
          "name": "stdout",
          "text": [
            "Z1 [6 4 1 0 8 9 9 8 8 5]\n",
            "Z2 [6 0 3 0 7 8 3 2 7 8]\n",
            "Intersection  [0 6 8]\n"
          ]
        }
      ],
      "source": [
        "z1 = np.random.randint(0,10,10)\n",
        "print(\"Z1\",z1)\n",
        "z2 = np.random.randint(0,10,10)\n",
        "print(\"Z2\",z2)\n",
        "z3 = np.intersect1d(z1,z2)\n",
        "print(\"Intersection \",z3)"
      ]
    },
    {
      "cell_type": "markdown",
      "metadata": {
        "id": "hW0fD1B95RNV"
      },
      "source": [
        "#### 31. How to ignore all numpy warnings (not recommended)? (★☆☆) \n",
        "(**hint**: np.seterr, np.errstate)"
      ]
    },
    {
      "cell_type": "code",
      "execution_count": null,
      "metadata": {
        "id": "8CPGzCC05RNV"
      },
      "outputs": [],
      "source": [
        "\n",
        "\n"
      ]
    },
    {
      "cell_type": "markdown",
      "metadata": {
        "id": "Dpmutu9S5RNV"
      },
      "source": [
        "#### 32. Is the following expressions true? (★☆☆) \n",
        "(**hint**: imaginary number)"
      ]
    },
    {
      "cell_type": "markdown",
      "metadata": {
        "id": "3XG4ql4r5RNV"
      },
      "source": [
        "```python\n",
        "np.sqrt(-1) == np.emath.sqrt(-1)\n",
        "```"
      ]
    },
    {
      "cell_type": "code",
      "execution_count": null,
      "metadata": {
        "id": "DCkz-RWw5RNW",
        "colab": {
          "base_uri": "https://localhost:8080/"
        },
        "outputId": "7f46a31f-548a-4a7d-a49f-4463180393ff"
      },
      "outputs": [
        {
          "output_type": "execute_result",
          "data": {
            "text/plain": [
              "False"
            ]
          },
          "metadata": {},
          "execution_count": 50
        }
      ],
      "source": [
        "np.sqrt(-1) == np.emath.sqrt(-1)"
      ]
    },
    {
      "cell_type": "markdown",
      "metadata": {
        "id": "MUZKmu8P5RNW"
      },
      "source": [
        "#### 33. How to get the dates of yesterday, today and tomorrow? (★☆☆) \n",
        "(**hint**: np.datetime64, np.timedelta64)"
      ]
    },
    {
      "cell_type": "code",
      "execution_count": null,
      "metadata": {
        "collapsed": true,
        "id": "rroMow485RNW",
        "colab": {
          "base_uri": "https://localhost:8080/"
        },
        "outputId": "d94b86b6-3147-4343-f248-9a78b789f6ae"
      },
      "outputs": [
        {
          "output_type": "stream",
          "name": "stdout",
          "text": [
            "Today      2022-03-18\n",
            "Yesterday  2022-03-17\n",
            "Tomorrow   2022-03-19\n"
          ]
        }
      ],
      "source": [
        "print(\"Today     \",np.datetime64('today') )\n",
        "print(\"Yesterday \",np.datetime64('today') - np.timedelta64(1) )\n",
        "print(\"Tomorrow  \",np.datetime64('today') + np.timedelta64(1) )"
      ]
    },
    {
      "cell_type": "markdown",
      "metadata": {
        "id": "Wo4LJDMV5RNW"
      },
      "source": [
        "#### 34. How to get all the dates corresponding to the month of July 2016? (★★☆) \n",
        "(**hint**: np.arange(dtype=datetime64\\['D'\\]))"
      ]
    },
    {
      "cell_type": "code",
      "execution_count": null,
      "metadata": {
        "id": "BvM29gYi5RNW",
        "colab": {
          "base_uri": "https://localhost:8080/"
        },
        "outputId": "c46fbe08-a807-4aaa-a926-536fdf82b408"
      },
      "outputs": [
        {
          "output_type": "execute_result",
          "data": {
            "text/plain": [
              "array(['2016-07-01', '2016-07-02', '2016-07-03', '2016-07-04',\n",
              "       '2016-07-05', '2016-07-06', '2016-07-07', '2016-07-08',\n",
              "       '2016-07-09', '2016-07-10', '2016-07-11', '2016-07-12',\n",
              "       '2016-07-13', '2016-07-14', '2016-07-15', '2016-07-16',\n",
              "       '2016-07-17', '2016-07-18', '2016-07-19', '2016-07-20',\n",
              "       '2016-07-21', '2016-07-22', '2016-07-23', '2016-07-24',\n",
              "       '2016-07-25', '2016-07-26', '2016-07-27', '2016-07-28',\n",
              "       '2016-07-29', '2016-07-30', '2016-07-31'], dtype='datetime64[D]')"
            ]
          },
          "metadata": {},
          "execution_count": 60
        }
      ],
      "source": [
        "np.arange('2016-07','2016-08', dtype='datetime64[D]')"
      ]
    },
    {
      "cell_type": "markdown",
      "metadata": {
        "id": "Ko02F2-85RNW"
      },
      "source": [
        "#### 35. How to compute ((A+B)\\*(-A/2)) in place (without copy)? (★★☆) \n",
        "(**hint**: np.add(out=), np.negative(out=), np.multiply(out=), np.divide(out=))"
      ]
    },
    {
      "cell_type": "code",
      "execution_count": null,
      "metadata": {
        "id": "yaZizrzn5RNW",
        "colab": {
          "base_uri": "https://localhost:8080/"
        },
        "outputId": "855672ac-16c0-4902-c356-6b306f4f2999"
      },
      "outputs": [
        {
          "output_type": "stream",
          "name": "stdout",
          "text": [
            "[-1.5 -1.5 -1.5]\n"
          ]
        },
        {
          "output_type": "execute_result",
          "data": {
            "text/plain": [
              "array([-1.5, -1.5, -1.5])"
            ]
          },
          "metadata": {},
          "execution_count": 72
        }
      ],
      "source": [
        "A = np.ones(3)*1\n",
        "B = np.ones(3)*2\n",
        "print( ((A+B)*(-A/2)) )\n",
        "\n",
        "np.add(A,B, out=B)\n",
        "np.divide(A,2,out=A)\n",
        "np.negative(A, out=A)\n",
        "np.multiply(A,B,out=A)"
      ]
    },
    {
      "cell_type": "markdown",
      "metadata": {
        "id": "3NyUR6Pr5RNX"
      },
      "source": [
        "#### 36. Extract the integer part of a random array using 5 different methods (★★☆) \n",
        "(**hint**: %, np.floor, np.ceil, astype, np.trunc)"
      ]
    },
    {
      "cell_type": "code",
      "execution_count": null,
      "metadata": {
        "id": "dF9gfkqL5RNX",
        "colab": {
          "base_uri": "https://localhost:8080/"
        },
        "outputId": "43517e61-ad97-46c4-a8c0-2443a0940239"
      },
      "outputs": [
        {
          "output_type": "stream",
          "name": "stdout",
          "text": [
            "[8.25295674 3.32936676 2.38044748 4.9988808  5.04746336]\n",
            "[8. 3. 2. 4. 5.]\n",
            "[8 3 2 4 5]\n",
            "[8. 3. 2. 4. 5.]\n",
            "[8. 3. 2. 4. 5.]\n"
          ]
        }
      ],
      "source": [
        "z = np.random.uniform(0,10,5)\n",
        "print(z)\n",
        "\n",
        "#print(np.trunc(z))\n",
        "print(z-z%1)\n",
        "print(z.astype(int))\n",
        "print(z//1)\n",
        "print(np.floor(z))"
      ]
    },
    {
      "cell_type": "markdown",
      "metadata": {
        "id": "5fgnwNz45RNX"
      },
      "source": [
        "#### 37. Create a 5x5 matrix with row values ranging from 0 to 4 (★★☆) \n",
        "(**hint**: np.arange)"
      ]
    },
    {
      "cell_type": "code",
      "execution_count": null,
      "metadata": {
        "id": "TQNy2huD5RNX",
        "colab": {
          "base_uri": "https://localhost:8080/"
        },
        "outputId": "80e624c0-02ad-4330-c2d0-eea28a2aba49"
      },
      "outputs": [
        {
          "output_type": "stream",
          "name": "stdout",
          "text": [
            "[[2 3 1 2 2]\n",
            " [1 3 2 2 3]\n",
            " [0 3 0 1 3]\n",
            " [1 0 0 2 1]\n",
            " [3 3 2 0 0]]\n"
          ]
        }
      ],
      "source": [
        "b = np.random.randint(0,4,25).reshape(5,5)\n",
        "print(b)"
      ]
    },
    {
      "cell_type": "markdown",
      "metadata": {
        "id": "94FQtgFR5RNX"
      },
      "source": [
        "#### 38. Consider a generator function that generates 10 integers and use it to build an array (★☆☆) \n",
        "(**hint**: np.fromiter)"
      ]
    },
    {
      "cell_type": "code",
      "execution_count": null,
      "metadata": {
        "id": "c3iwbdo35RNX",
        "colab": {
          "base_uri": "https://localhost:8080/"
        },
        "outputId": "8098fdc2-2a24-4eca-b973-a201c0ef81ca"
      },
      "outputs": [
        {
          "output_type": "stream",
          "name": "stdout",
          "text": [
            "[0. 1. 2. 3. 4. 5. 6. 7. 8. 9.]\n"
          ]
        }
      ],
      "source": [
        "def generate():\n",
        "  for i in range(10):\n",
        "    yield i\n",
        "z = np.fromiter(generate(), dtype=float, count=-1)\n",
        "print(z)"
      ]
    },
    {
      "cell_type": "markdown",
      "metadata": {
        "id": "7LSIjzgy5RNX"
      },
      "source": [
        "#### 39. Create a vector of size 10 with values ranging from 0 to 1, both excluded (★★☆) \n",
        "(**hint**: np.linspace)"
      ]
    },
    {
      "cell_type": "code",
      "execution_count": null,
      "metadata": {
        "id": "SSafWNqh5RNY",
        "colab": {
          "base_uri": "https://localhost:8080/"
        },
        "outputId": "372b30db-efb2-4b80-c859-965953e540e7"
      },
      "outputs": [
        {
          "output_type": "stream",
          "name": "stdout",
          "text": [
            "[0.09090909 0.18181818 0.27272727 0.36363636 0.45454545 0.54545455\n",
            " 0.63636364 0.72727273 0.81818182 0.90909091]\n"
          ]
        }
      ],
      "source": [
        "z = np.linspace(0,1,11, endpoint=False)[1:]\n",
        "print(z)"
      ]
    },
    {
      "cell_type": "markdown",
      "metadata": {
        "id": "ARNJ-JZJ5RNY"
      },
      "source": [
        "#### 40. Create a random vector of size 10 and sort it (★★☆) \n",
        "(**hint**: sort)"
      ]
    },
    {
      "cell_type": "code",
      "execution_count": null,
      "metadata": {
        "id": "kmg-ynBr5RNY",
        "colab": {
          "base_uri": "https://localhost:8080/"
        },
        "outputId": "2ecd35c9-1389-47b9-c7e0-c2cd9d62c8e2"
      },
      "outputs": [
        {
          "output_type": "stream",
          "name": "stdout",
          "text": [
            "[4 5 1 5 2 8 4 4 9 4]\n",
            "[1 2 4 4 4 4 5 5 8 9]\n"
          ]
        }
      ],
      "source": [
        "z = np.random.uniform(1,10,10)\n",
        "print(z.astype(int))\n",
        "z.sort()\n",
        "print(z.astype(int))"
      ]
    },
    {
      "cell_type": "markdown",
      "metadata": {
        "id": "hV_9o2w25RNY"
      },
      "source": [
        "#### 41. How to sum a small array faster than np.sum? (★★☆) \n",
        "(**hint**: np.add.reduce)"
      ]
    },
    {
      "cell_type": "code",
      "execution_count": null,
      "metadata": {
        "id": "vOxb1fns5RNY",
        "colab": {
          "base_uri": "https://localhost:8080/"
        },
        "outputId": "9ffa906a-e476-4c6f-f392-9221247a4343"
      },
      "outputs": [
        {
          "output_type": "execute_result",
          "data": {
            "text/plain": [
              "45"
            ]
          },
          "metadata": {},
          "execution_count": 101
        }
      ],
      "source": [
        "z = np.arange(10)\n",
        "np.add.reduce(z)"
      ]
    },
    {
      "cell_type": "markdown",
      "metadata": {
        "id": "gSPxA0Z95RNY"
      },
      "source": [
        "#### 42. Consider two random array A and B, check if they are equal (★★☆) \n",
        "(**hint**: np.allclose, np.array\\_equal)"
      ]
    },
    {
      "cell_type": "code",
      "execution_count": null,
      "metadata": {
        "id": "ou_mWvXS5RNY",
        "colab": {
          "base_uri": "https://localhost:8080/"
        },
        "outputId": "9259e514-54df-456a-bf13-6e24ff4c88d1"
      },
      "outputs": [
        {
          "output_type": "stream",
          "name": "stdout",
          "text": [
            "False\n"
          ]
        }
      ],
      "source": [
        "A = np.random.randint(1,10,5)\n",
        "B = np.random.randint(1,10,5)\n",
        "\n",
        "print(np.array_equal(A,B))"
      ]
    },
    {
      "cell_type": "markdown",
      "metadata": {
        "id": "xjZo98LC5RNY"
      },
      "source": [
        "#### 43. Make an array immutable (read-only) (★★☆) \n",
        "(**hint**: flags.writeable)"
      ]
    },
    {
      "cell_type": "code",
      "execution_count": null,
      "metadata": {
        "id": "EM-1J1Ga5RNZ",
        "colab": {
          "base_uri": "https://localhost:8080/"
        },
        "outputId": "2444375b-9a46-4a1c-d789-edb106dfb294"
      },
      "outputs": [
        {
          "output_type": "execute_result",
          "data": {
            "text/plain": [
              "array([0., 0., 0., 0., 0., 0., 0., 0., 0., 0.])"
            ]
          },
          "metadata": {},
          "execution_count": 108
        }
      ],
      "source": [
        "Z = np.zeros(10)\n",
        "Z.flags.writeable = False\n",
        "Z\n",
        "#Z[0] = 1"
      ]
    },
    {
      "cell_type": "markdown",
      "metadata": {
        "id": "TLUFmGd25RNZ"
      },
      "source": [
        "#### 44. Consider a random 10x2 matrix representing cartesian coordinates, convert them to polar coordinates (★★☆) \n",
        "(**hint**: np.sqrt, np.arctan2)"
      ]
    },
    {
      "cell_type": "code",
      "execution_count": null,
      "metadata": {
        "id": "w_6-rRff5RNZ",
        "colab": {
          "base_uri": "https://localhost:8080/"
        },
        "outputId": "ca87d270-ea07-42f3-f720-4f5d3d865edb"
      },
      "outputs": [
        {
          "output_type": "stream",
          "name": "stdout",
          "text": [
            "[0.81475425 1.20639423 0.58732341 0.93341323 0.99694492 0.47348307\n",
            " 0.80401753 0.75932068 0.91485484 1.03687218]\n",
            "[1.02864353 0.92959607 0.03693501 0.45864751 1.08031318 0.24241886\n",
            " 0.21810398 0.67928173 1.35984749 1.09674831]\n"
          ]
        }
      ],
      "source": [
        "Z = np.random.random((10,2))\n",
        "X,Y = Z[:,0], Z[:,1]\n",
        "R = np.sqrt(X**2+Y**2)\n",
        "T = np.arctan2(Y,X)\n",
        "print(R)\n",
        "print(T)"
      ]
    },
    {
      "cell_type": "markdown",
      "metadata": {
        "id": "b5fLg3ei5RNZ"
      },
      "source": [
        "#### 45. Create random vector of size 10 and replace the maximum value by 0 (★★☆) \n",
        "(**hint**: argmax)"
      ]
    },
    {
      "cell_type": "code",
      "execution_count": null,
      "metadata": {
        "id": "JjpREIVN5RNZ",
        "colab": {
          "base_uri": "https://localhost:8080/"
        },
        "outputId": "c156a7d8-4ffe-4d7c-afd7-f75bd7cd9416"
      },
      "outputs": [
        {
          "output_type": "stream",
          "name": "stdout",
          "text": [
            "[4 4 2 6 3 7 5 7 6 7] \n",
            "\n",
            "[4 4 2 6 3 0 5 7 6 7]\n"
          ]
        }
      ],
      "source": [
        "z = np.random.randint(1,10,10)\n",
        "print(z,\"\\n\")\n",
        "\n",
        "z[z.argmax()]=0\n",
        "print(z)\n"
      ]
    },
    {
      "cell_type": "markdown",
      "metadata": {
        "id": "6u7_EBLc5RNZ"
      },
      "source": [
        "#### 46. Create a structured array with `x` and `y` coordinates covering the \\[0,1\\]x\\[0,1\\] area (★★☆) \n",
        "(**hint**: np.meshgrid)"
      ]
    },
    {
      "cell_type": "code",
      "execution_count": null,
      "metadata": {
        "id": "BbrQ4Im85RNZ",
        "colab": {
          "base_uri": "https://localhost:8080/"
        },
        "outputId": "25536fa4-91e3-4bbd-d3ee-ddfc6d1bd9c7"
      },
      "outputs": [
        {
          "output_type": "stream",
          "name": "stdout",
          "text": [
            "[[(0.  , 0.  ) (0.25, 0.  ) (0.5 , 0.  ) (0.75, 0.  ) (1.  , 0.  )]\n",
            " [(0.  , 0.25) (0.25, 0.25) (0.5 , 0.25) (0.75, 0.25) (1.  , 0.25)]\n",
            " [(0.  , 0.5 ) (0.25, 0.5 ) (0.5 , 0.5 ) (0.75, 0.5 ) (1.  , 0.5 )]\n",
            " [(0.  , 0.75) (0.25, 0.75) (0.5 , 0.75) (0.75, 0.75) (1.  , 0.75)]\n",
            " [(0.  , 1.  ) (0.25, 1.  ) (0.5 , 1.  ) (0.75, 1.  ) (1.  , 1.  )]]\n"
          ]
        }
      ],
      "source": [
        "Z = np.zeros((5,5), [('x',float),('y',float)])\n",
        "Z['x'], Z['y'] = np.meshgrid(np.linspace(0,1,5), np.linspace(0,1,5))\n",
        "print(Z)"
      ]
    },
    {
      "cell_type": "markdown",
      "metadata": {
        "id": "dFzIRCa75RNZ"
      },
      "source": [
        "####  47. Given two arrays, X and Y, construct the Cauchy matrix C (Cij =1/(xi - yj)) \n",
        "(**hint**: np.subtract.outer)"
      ]
    },
    {
      "cell_type": "code",
      "execution_count": null,
      "metadata": {
        "id": "O6_c79p15RNa",
        "colab": {
          "base_uri": "https://localhost:8080/"
        },
        "outputId": "9776d346-d959-46c7-da4b-341408c221d8"
      },
      "outputs": [
        {
          "output_type": "stream",
          "name": "stdout",
          "text": [
            "3638.163637117973\n"
          ]
        }
      ],
      "source": [
        "X = np.arange(8)\n",
        "Y = X + 0.5\n",
        "C = 1.0 / np.subtract.outer(X, Y)\n",
        "print(np.linalg.det(C))"
      ]
    },
    {
      "cell_type": "markdown",
      "metadata": {
        "id": "BvXJX6LK5RNa"
      },
      "source": [
        "#### 48. Print the minimum and maximum representable value for each numpy scalar type (★★☆) \n",
        "(**hint**: np.iinfo, np.finfo, eps)"
      ]
    },
    {
      "cell_type": "code",
      "execution_count": null,
      "metadata": {
        "id": "Sjv8W4v_5RNa"
      },
      "outputs": [],
      "source": []
    },
    {
      "cell_type": "markdown",
      "metadata": {
        "id": "oJTMKbnI5RNa"
      },
      "source": [
        "#### 49. How to print all the values of an array? (★★☆) \n",
        "(**hint**: np.set\\_printoptions)"
      ]
    },
    {
      "cell_type": "code",
      "execution_count": null,
      "metadata": {
        "id": "YleUUEir5RNa",
        "colab": {
          "base_uri": "https://localhost:8080/"
        },
        "outputId": "2d8164e0-fa79-408f-e0c8-0fdf29bb66cc"
      },
      "outputs": [
        {
          "output_type": "stream",
          "name": "stdout",
          "text": [
            "[[ 0  1  2  3  4]\n",
            " [ 5  6  7  8  9]\n",
            " [10 11 12 13 14]\n",
            " [15 16 17 18 19]\n",
            " [20 21 22 23 24]\n",
            " [25 26 27 28 29]\n",
            " [30 31 32 33 34]\n",
            " [35 36 37 38 39]\n",
            " [40 41 42 43 44]\n",
            " [45 46 47 48 49]]\n"
          ]
        }
      ],
      "source": [
        "Z = np.arange(50).reshape(10,5)\n",
        "np.set_printoptions(threshold=float(\"inf\"))\n",
        "print(Z)"
      ]
    },
    {
      "cell_type": "markdown",
      "metadata": {
        "id": "ZHKshG6a5RNa"
      },
      "source": [
        "#### 50. How to find the closest value (to a given scalar) in a vector? (★★☆) \n",
        "(**hint**: argmin)"
      ]
    },
    {
      "cell_type": "code",
      "execution_count": null,
      "metadata": {
        "id": "2RZfPC4W5RNa",
        "colab": {
          "base_uri": "https://localhost:8080/"
        },
        "outputId": "17cbd406-1e97-41c3-feda-82b2d98490ee"
      },
      "outputs": [
        {
          "output_type": "stream",
          "name": "stdout",
          "text": [
            "70\n"
          ]
        }
      ],
      "source": [
        "Z = np.arange(100)\n",
        "v = np.random.uniform(0,100)\n",
        "index = (np.abs(Z-v)).argmin()\n",
        "print(Z[index])"
      ]
    },
    {
      "cell_type": "markdown",
      "metadata": {
        "id": "t43iBwY65RNa"
      },
      "source": [
        "#### 51. Create a structured array representing a position (x,y) and a color (r,g,b) (★★☆) \n",
        "(**hint**: dtype)"
      ]
    },
    {
      "cell_type": "code",
      "execution_count": 3,
      "metadata": {
        "id": "1smc9sce5RNb",
        "colab": {
          "base_uri": "https://localhost:8080/"
        },
        "outputId": "8dfba45a-6559-4676-cf31-441748c65369"
      },
      "outputs": [
        {
          "output_type": "stream",
          "name": "stdout",
          "text": [
            "[((0., 0.), (0., 0., 0.)) ((0., 0.), (0., 0., 0.))\n",
            " ((0., 0.), (0., 0., 0.)) ((0., 0.), (0., 0., 0.))\n",
            " ((0., 0.), (0., 0., 0.)) ((0., 0.), (0., 0., 0.))\n",
            " ((0., 0.), (0., 0., 0.)) ((0., 0.), (0., 0., 0.))\n",
            " ((0., 0.), (0., 0., 0.)) ((0., 0.), (0., 0., 0.))]\n"
          ]
        },
        {
          "output_type": "stream",
          "name": "stderr",
          "text": [
            "/usr/local/lib/python3.7/dist-packages/ipykernel_launcher.py:5: FutureWarning: Passing (type, 1) or '1type' as a synonym of type is deprecated; in a future version of numpy, it will be understood as (type, (1,)) / '(1,)type'.\n",
            "  \"\"\"\n"
          ]
        }
      ],
      "source": [
        "Z = np.zeros(10, [ ('position', [ ('x', float, 1),\n",
        "                                  ('y', float, 1)]),\n",
        "                   ('color',    [ ('r', float, 1),\n",
        "                                  ('g', float, 1),\n",
        "                                  ('b', float, 1)])])\n",
        "print(Z)"
      ]
    },
    {
      "cell_type": "markdown",
      "metadata": {
        "id": "_uzcbz3k5RNb"
      },
      "source": [
        "#### 52. Consider a random vector with shape (100,2) representing coordinates, find point by point distances (★★☆) \n",
        "(**hint**: np.atleast\\_2d, T, np.sqrt)"
      ]
    },
    {
      "cell_type": "code",
      "execution_count": 4,
      "metadata": {
        "id": "gPj-T6B45RNb",
        "colab": {
          "base_uri": "https://localhost:8080/"
        },
        "outputId": "29f5fa9e-c4e5-467c-ad38-eb0540d3e854"
      },
      "outputs": [
        {
          "output_type": "stream",
          "name": "stdout",
          "text": [
            "[[0.         0.24088148 0.04214297 0.81872847 0.26675986 0.75176305\n",
            "  0.72614003 0.38329221 0.44370844 1.00916128]\n",
            " [0.24088148 0.         0.22481797 0.71842856 0.49853718 0.63352845\n",
            "  0.5720932  0.31474155 0.65881413 0.94454276]\n",
            " [0.04214297 0.22481797 0.         0.77678425 0.27393012 0.71038757\n",
            "  0.68679661 0.34159377 0.44133904 0.96717591]\n",
            " [0.81872847 0.71842856 0.77678425 0.         0.90730405 0.09792938\n",
            "  0.2212623  0.43608817 0.92766752 0.25051963]\n",
            " [0.26675986 0.49853718 0.27393012 0.90730405 0.         0.86422475\n",
            "  0.87567253 0.51462995 0.18948477 1.04611269]\n",
            " [0.75176305 0.63352845 0.71038757 0.09792938 0.86422475 0.\n",
            "  0.12823176 0.36939145 0.9036934  0.3484207 ]\n",
            " [0.72614003 0.5720932  0.68679661 0.2212623  0.87567253 0.12823176\n",
            "  0.         0.36168842 0.94073795 0.46917648]\n",
            " [0.38329221 0.31474155 0.34159377 0.43608817 0.51462995 0.36939145\n",
            "  0.36168842 0.         0.59595274 0.64083908]\n",
            " [0.44370844 0.65881413 0.44133904 0.92766752 0.18948477 0.9036934\n",
            "  0.94073795 0.59595274 0.         1.02348792]\n",
            " [1.00916128 0.94454276 0.96717591 0.25051963 1.04611269 0.3484207\n",
            "  0.46917648 0.64083908 1.02348792 0.        ]]\n"
          ]
        }
      ],
      "source": [
        "Z = np.random.random((10,2))\n",
        "X,Y = np.atleast_2d(Z[:,0], Z[:,1])\n",
        "D = np.sqrt( (X-X.T)**2 + (Y-Y.T)**2)\n",
        "print(D)"
      ]
    },
    {
      "cell_type": "markdown",
      "metadata": {
        "id": "SbV9GMKG5RNb"
      },
      "source": [
        "#### 53. How to convert a float (32 bits) array into an integer (32 bits) in place? \n",
        "(**hint**: astype(copy=False))"
      ]
    },
    {
      "cell_type": "code",
      "execution_count": null,
      "metadata": {
        "id": "4aIXlGcJ5RNb"
      },
      "outputs": [],
      "source": []
    },
    {
      "cell_type": "markdown",
      "metadata": {
        "id": "Kz-6pjMP5RNb"
      },
      "source": [
        "#### 54. How to read the following file? (★★☆) \n",
        "(**hint**: np.genfromtxt)"
      ]
    },
    {
      "cell_type": "markdown",
      "metadata": {
        "id": "-Ejvpyae5RNb"
      },
      "source": [
        "```\n",
        "1, 2, 3, 4, 5\n",
        "6,  ,  , 7, 8\n",
        " ,  , 9,10,11\n",
        "```"
      ]
    },
    {
      "cell_type": "code",
      "execution_count": null,
      "metadata": {
        "id": "vb467nxo5RNc"
      },
      "outputs": [],
      "source": []
    },
    {
      "cell_type": "markdown",
      "metadata": {
        "id": "BC9Fd1G35RNc"
      },
      "source": [
        "#### 55. What is the equivalent of enumerate for numpy arrays? (★★☆) \n",
        "(**hint**: np.ndenumerate, np.ndindex)"
      ]
    },
    {
      "cell_type": "code",
      "execution_count": 5,
      "metadata": {
        "id": "fIS57SaV5RNc",
        "colab": {
          "base_uri": "https://localhost:8080/"
        },
        "outputId": "d310cd90-ea05-4336-f48c-98e94ea679d9"
      },
      "outputs": [
        {
          "output_type": "stream",
          "name": "stdout",
          "text": [
            "(0, 0) 0\n",
            "(0, 1) 1\n",
            "(0, 2) 2\n",
            "(1, 0) 3\n",
            "(1, 1) 4\n",
            "(1, 2) 5\n",
            "(2, 0) 6\n",
            "(2, 1) 7\n",
            "(2, 2) 8\n",
            "(0, 0) 0\n",
            "(0, 1) 1\n",
            "(0, 2) 2\n",
            "(1, 0) 3\n",
            "(1, 1) 4\n",
            "(1, 2) 5\n",
            "(2, 0) 6\n",
            "(2, 1) 7\n",
            "(2, 2) 8\n"
          ]
        }
      ],
      "source": [
        "Z = np.arange(9).reshape(3,3)\n",
        "for index, value in np.ndenumerate(Z):\n",
        "    print(index, value)\n",
        "for index in np.ndindex(Z.shape):\n",
        "    print(index, Z[index])"
      ]
    },
    {
      "cell_type": "markdown",
      "metadata": {
        "id": "H8r0dfWr5RNc"
      },
      "source": [
        "#### 56. Generate a generic 2D Gaussian-like array (★★☆) \n",
        "(**hint**: np.meshgrid, np.exp)"
      ]
    },
    {
      "cell_type": "code",
      "execution_count": null,
      "metadata": {
        "id": "a3JVFtSb5RNc"
      },
      "outputs": [],
      "source": []
    },
    {
      "cell_type": "markdown",
      "metadata": {
        "id": "qfi0OdMt5RNc"
      },
      "source": [
        "#### 57. How to randomly place p elements in a 2D array? (★★☆) \n",
        "(**hint**: np.put, np.random.choice)"
      ]
    },
    {
      "cell_type": "code",
      "execution_count": 7,
      "metadata": {
        "id": "CIGPOVu65RNc",
        "colab": {
          "base_uri": "https://localhost:8080/"
        },
        "outputId": "2294b7a3-291f-4dc5-83b9-3993e52f3739"
      },
      "outputs": [
        {
          "output_type": "stream",
          "name": "stdout",
          "text": [
            "[[0. 0. 0. 0. 0. 0. 0. 0. 0. 1.]\n",
            " [0. 0. 0. 0. 0. 0. 0. 0. 0. 0.]\n",
            " [0. 0. 0. 0. 0. 0. 0. 0. 1. 0.]\n",
            " [0. 0. 0. 0. 0. 0. 0. 0. 0. 0.]\n",
            " [0. 0. 0. 0. 0. 0. 0. 0. 0. 0.]\n",
            " [0. 0. 0. 0. 0. 0. 0. 0. 0. 0.]\n",
            " [0. 0. 0. 0. 0. 0. 0. 0. 0. 1.]\n",
            " [0. 0. 0. 0. 0. 0. 0. 0. 0. 0.]\n",
            " [0. 0. 0. 0. 0. 0. 0. 0. 0. 0.]\n",
            " [0. 0. 0. 0. 0. 0. 0. 0. 0. 0.]]\n"
          ]
        }
      ],
      "source": [
        "n = 10\n",
        "p = 3\n",
        "Z = np.zeros((n,n))\n",
        "np.put(Z, np.random.choice(range(n*n), p, replace=False),1)\n",
        "print(Z)"
      ]
    },
    {
      "cell_type": "markdown",
      "metadata": {
        "id": "l3UQjB2t5RNc"
      },
      "source": [
        "#### 58. Subtract the mean of each row of a matrix (★★☆) \n",
        "(**hint**: mean(axis=,keepdims=))"
      ]
    },
    {
      "cell_type": "code",
      "execution_count": 9,
      "metadata": {
        "id": "38w5mRp55RNd",
        "colab": {
          "base_uri": "https://localhost:8080/"
        },
        "outputId": "98bc63e0-936c-4951-c498-69af0a69738c"
      },
      "outputs": [
        {
          "output_type": "execute_result",
          "data": {
            "text/plain": [
              "array([[-3.79664201e-01,  2.57709302e-01, -2.05461720e-01,\n",
              "         1.08003866e-01,  7.45203468e-02,  2.34162130e-01,\n",
              "         5.82272504e-02, -4.47357585e-01, -2.01547486e-01,\n",
              "         5.01408098e-01],\n",
              "       [ 2.91781313e-01, -9.52706499e-02,  2.47841584e-02,\n",
              "        -1.29341262e-02,  1.74268172e-01,  3.19782707e-01,\n",
              "        -3.17707521e-01,  1.46893713e-01, -8.41720553e-02,\n",
              "        -4.47425712e-01],\n",
              "       [ 1.49884126e-01,  1.07265617e-01,  9.91833759e-02,\n",
              "        -3.76802960e-01,  8.91964347e-02, -3.13885705e-01,\n",
              "         1.70026645e-01,  1.41771234e-01, -6.70318821e-02,\n",
              "         3.93114451e-04],\n",
              "       [-2.04220405e-01, -2.58141414e-01,  3.66040835e-01,\n",
              "         2.90006845e-01,  1.32689628e-01, -2.61099032e-01,\n",
              "        -4.21378349e-01,  2.95377947e-01,  1.49236159e-01,\n",
              "        -8.85122145e-02],\n",
              "       [-2.84964609e-01, -2.80531439e-01,  4.44053178e-01,\n",
              "         4.08387621e-01,  4.20235966e-01, -3.83585548e-01,\n",
              "        -3.02028356e-01, -8.72805208e-02, -1.31578148e-01,\n",
              "         1.97291857e-01]])"
            ]
          },
          "metadata": {},
          "execution_count": 9
        }
      ],
      "source": [
        "X = np.random.rand(5, 10)\n",
        "Y = X - X.mean(axis=1, keepdims=True)\n",
        "Y"
      ]
    },
    {
      "cell_type": "markdown",
      "metadata": {
        "id": "IfTWfZD05RNd"
      },
      "source": [
        "#### 59. How to sort an array by the nth column? (★★☆) \n",
        "(**hint**: argsort)"
      ]
    },
    {
      "cell_type": "code",
      "execution_count": 10,
      "metadata": {
        "id": "qYqiPupm5RNd",
        "colab": {
          "base_uri": "https://localhost:8080/"
        },
        "outputId": "9ac398b3-2d49-453a-b8e7-3931e54159c7"
      },
      "outputs": [
        {
          "output_type": "stream",
          "name": "stdout",
          "text": [
            "[[8 9 5]\n",
            " [8 8 2]\n",
            " [0 5 0]]\n",
            "[[0 5 0]\n",
            " [8 8 2]\n",
            " [8 9 5]]\n"
          ]
        }
      ],
      "source": [
        "Z = np.random.randint(0,10,(3,3))\n",
        "print(Z)\n",
        "print(Z[Z[:,1].argsort()])"
      ]
    },
    {
      "cell_type": "markdown",
      "metadata": {
        "id": "o-rw92GY5RNd"
      },
      "source": [
        "#### 60. How to tell if a given 2D array has null columns? (★★☆) \n",
        "(**hint**: any, ~)"
      ]
    },
    {
      "cell_type": "code",
      "execution_count": 11,
      "metadata": {
        "id": "ms1pr33e5RNd",
        "colab": {
          "base_uri": "https://localhost:8080/"
        },
        "outputId": "b4347f68-14cc-40c9-85a4-1c7c45732fc9"
      },
      "outputs": [
        {
          "output_type": "stream",
          "name": "stdout",
          "text": [
            "False\n"
          ]
        }
      ],
      "source": [
        "Z = np.random.randint(0,3,(3,10))\n",
        "print((~Z.any(axis=0)).any())"
      ]
    },
    {
      "cell_type": "markdown",
      "metadata": {
        "id": "SeeQA_iL5RNd"
      },
      "source": [
        "#### 61. Find the nearest value from a given value in an array (★★☆) \n",
        "(**hint**: np.abs, argmin, flat)"
      ]
    },
    {
      "cell_type": "code",
      "execution_count": 12,
      "metadata": {
        "id": "VgbofZId5RNd",
        "colab": {
          "base_uri": "https://localhost:8080/"
        },
        "outputId": "ba80f9f0-8aae-4cd3-faed-658e82afbdae"
      },
      "outputs": [
        {
          "output_type": "stream",
          "name": "stdout",
          "text": [
            "0.48014858043313724\n"
          ]
        }
      ],
      "source": [
        "Z = np.random.uniform(0,1,10)\n",
        "z = 0.5\n",
        "m = Z.flat[np.abs(Z - z).argmin()]\n",
        "print(m)"
      ]
    },
    {
      "cell_type": "markdown",
      "metadata": {
        "id": "_9yyfmII5RNe"
      },
      "source": [
        "#### 62. Considering two arrays with shape (1,3) and (3,1), how to compute their sum using an iterator? (★★☆) \n",
        "(**hint**: np.nditer)"
      ]
    },
    {
      "cell_type": "code",
      "execution_count": null,
      "metadata": {
        "id": "v4iEJ4H25RNe"
      },
      "outputs": [],
      "source": []
    },
    {
      "cell_type": "markdown",
      "metadata": {
        "id": "ed34v9s-5RNe"
      },
      "source": [
        "#### 63. Create an array class that has a name attribute (★★☆) \n",
        "(**hint**: class method)"
      ]
    },
    {
      "cell_type": "code",
      "execution_count": null,
      "metadata": {
        "id": "wzQ6aXC05RNe"
      },
      "outputs": [],
      "source": []
    },
    {
      "cell_type": "markdown",
      "metadata": {
        "id": "NBCmPkQe5RNe"
      },
      "source": [
        "#### 64. Consider a given vector, how to add 1 to each element indexed by a second vector (be careful with repeated indices)? (★★★) \n",
        "(**hint**: np.bincount | np.add.at)"
      ]
    },
    {
      "cell_type": "code",
      "execution_count": 13,
      "metadata": {
        "id": "FVS7LD0y5RNe",
        "colab": {
          "base_uri": "https://localhost:8080/"
        },
        "outputId": "0ac109ab-160c-43bb-ed17-8b654b8fd704"
      },
      "outputs": [
        {
          "output_type": "stream",
          "name": "stdout",
          "text": [
            "[2. 3. 5. 3. 2. 2. 3. 6. 1. 3.]\n"
          ]
        }
      ],
      "source": [
        "Z = np.ones(10)\n",
        "I = np.random.randint(0,len(Z),20)\n",
        "Z += np.bincount(I, minlength=len(Z))\n",
        "print(Z)"
      ]
    },
    {
      "cell_type": "markdown",
      "metadata": {
        "id": "B3sdvouu5RNe"
      },
      "source": [
        "#### 65. How to accumulate elements of a vector (X) to an array (F) based on an index list (I)? (★★★) \n",
        "(**hint**: np.bincount)"
      ]
    },
    {
      "cell_type": "code",
      "execution_count": 14,
      "metadata": {
        "id": "9ymrrU4t5RNf",
        "colab": {
          "base_uri": "https://localhost:8080/"
        },
        "outputId": "8f428cea-87d7-4bd4-d4e6-6172761f4125"
      },
      "outputs": [
        {
          "output_type": "stream",
          "name": "stdout",
          "text": [
            "[0. 7. 0. 6. 5. 0. 0. 0. 0. 3.]\n"
          ]
        }
      ],
      "source": [
        "X = [1,2,3,4,5,6]\n",
        "I = [1,3,9,3,4,1]\n",
        "F = np.bincount(I,X)\n",
        "print(F)"
      ]
    },
    {
      "cell_type": "markdown",
      "metadata": {
        "id": "jMYWZSs25RNf"
      },
      "source": [
        "#### 66. Considering a (w,h,3) image of (dtype=ubyte), compute the number of unique colors (★★★) \n",
        "(**hint**: np.unique)"
      ]
    },
    {
      "cell_type": "code",
      "execution_count": null,
      "metadata": {
        "id": "m6RnVegm5RNf"
      },
      "outputs": [],
      "source": []
    },
    {
      "cell_type": "markdown",
      "metadata": {
        "id": "tu4_PSW55RNf"
      },
      "source": [
        "#### 67. Considering a four dimensions array, how to get sum over the last two axis at once? (★★★) \n",
        "(**hint**: sum(axis=(-2,-1)))"
      ]
    },
    {
      "cell_type": "code",
      "execution_count": null,
      "metadata": {
        "id": "uuVLNSeN5RNf"
      },
      "outputs": [],
      "source": []
    },
    {
      "cell_type": "markdown",
      "metadata": {
        "id": "PdUU0Gly5RNf"
      },
      "source": [
        "#### 68. Considering a one-dimensional vector D, how to compute means of subsets of D using a vector S of same size describing subset  indices? (★★★) \n",
        "(**hint**: np.bincount)"
      ]
    },
    {
      "cell_type": "code",
      "execution_count": 15,
      "metadata": {
        "id": "cBow_KeN5RNf",
        "colab": {
          "base_uri": "https://localhost:8080/"
        },
        "outputId": "16b892ef-caff-4ce0-ef60-94851da6d85f"
      },
      "outputs": [
        {
          "output_type": "stream",
          "name": "stdout",
          "text": [
            "[0.53290253 0.49799181 0.49167109 0.56064698 0.60214412 0.33382196\n",
            " 0.54611749 0.66380753 0.6315469  0.40433411]\n"
          ]
        }
      ],
      "source": [
        "D = np.random.uniform(0,1,100)\n",
        "S = np.random.randint(0,10,100)\n",
        "D_sums = np.bincount(S, weights=D)\n",
        "D_counts = np.bincount(S)\n",
        "D_means = D_sums / D_counts\n",
        "print(D_means)"
      ]
    },
    {
      "cell_type": "markdown",
      "metadata": {
        "id": "BBSN4BQV5RNg"
      },
      "source": [
        "#### 69. How to get the diagonal of a dot product? (★★★) \n",
        "(**hint**: np.diag)"
      ]
    },
    {
      "cell_type": "code",
      "execution_count": 16,
      "metadata": {
        "id": "WbHvRO315RNg",
        "colab": {
          "base_uri": "https://localhost:8080/"
        },
        "outputId": "abeb742d-5565-4f57-a864-83059b08c38d"
      },
      "outputs": [
        {
          "output_type": "execute_result",
          "data": {
            "text/plain": [
              "array([1.62652502, 1.38128178, 0.35871506, 1.42279172, 0.62275545])"
            ]
          },
          "metadata": {},
          "execution_count": 16
        }
      ],
      "source": [
        "A = np.random.uniform(0,1,(5,5))\n",
        "B = np.random.uniform(0,1,(5,5))\n",
        "np.diag(np.dot(A, B))"
      ]
    },
    {
      "cell_type": "markdown",
      "metadata": {
        "id": "ArAbwwXg5RNg"
      },
      "source": [
        "#### 70. Consider the vector \\[1, 2, 3, 4, 5\\], how to build a new vector with 3 consecutive zeros interleaved between each value? (★★★) \n",
        "(**hint**: array\\[::4\\])"
      ]
    },
    {
      "cell_type": "code",
      "execution_count": 18,
      "metadata": {
        "id": "PrRsb1jc5RNg",
        "colab": {
          "base_uri": "https://localhost:8080/"
        },
        "outputId": "1a272fa0-8f4e-4712-bde3-8ed21e9443c3"
      },
      "outputs": [
        {
          "output_type": "stream",
          "name": "stdout",
          "text": [
            "[1. 0. 0. 0. 2. 0. 0. 0. 3. 0. 0. 0. 4. 0. 0. 0. 5.]\n"
          ]
        }
      ],
      "source": [
        "Z = np.array([1,2,3,4,5])\n",
        "nz = 3\n",
        "Z0 = np.zeros(len(Z) + (len(Z)-1)*(nz))\n",
        "Z0[::nz+1] = Z\n",
        "print(Z0)"
      ]
    },
    {
      "cell_type": "markdown",
      "metadata": {
        "id": "Qt8lJ90D5RNg"
      },
      "source": [
        "#### 71. Consider an array of dimension (5,5,3), how to mulitply it by an array with dimensions (5,5)? (★★★) \n",
        "(**hint**: array\\[:, :, None\\])"
      ]
    },
    {
      "cell_type": "code",
      "execution_count": 19,
      "metadata": {
        "collapsed": true,
        "id": "X4JRGMfS5RNg",
        "colab": {
          "base_uri": "https://localhost:8080/"
        },
        "outputId": "1b4d502f-d20a-491a-f082-6e26b1d7afee"
      },
      "outputs": [
        {
          "output_type": "stream",
          "name": "stdout",
          "text": [
            "[[[2. 2. 2.]\n",
            "  [2. 2. 2.]\n",
            "  [2. 2. 2.]\n",
            "  [2. 2. 2.]\n",
            "  [2. 2. 2.]]\n",
            "\n",
            " [[2. 2. 2.]\n",
            "  [2. 2. 2.]\n",
            "  [2. 2. 2.]\n",
            "  [2. 2. 2.]\n",
            "  [2. 2. 2.]]\n",
            "\n",
            " [[2. 2. 2.]\n",
            "  [2. 2. 2.]\n",
            "  [2. 2. 2.]\n",
            "  [2. 2. 2.]\n",
            "  [2. 2. 2.]]\n",
            "\n",
            " [[2. 2. 2.]\n",
            "  [2. 2. 2.]\n",
            "  [2. 2. 2.]\n",
            "  [2. 2. 2.]\n",
            "  [2. 2. 2.]]\n",
            "\n",
            " [[2. 2. 2.]\n",
            "  [2. 2. 2.]\n",
            "  [2. 2. 2.]\n",
            "  [2. 2. 2.]\n",
            "  [2. 2. 2.]]]\n"
          ]
        }
      ],
      "source": [
        "A = np.ones((5,5,3))\n",
        "B = 2*np.ones((5,5))\n",
        "print(A * B[:,:,None])"
      ]
    },
    {
      "cell_type": "markdown",
      "metadata": {
        "id": "elgONBU45RNh"
      },
      "source": [
        "#### 72. How to swap two rows of an array? (★★★) \n",
        "(**hint**: array\\[\\[\\]\\] = array\\[\\[\\]\\])"
      ]
    },
    {
      "cell_type": "code",
      "execution_count": 20,
      "metadata": {
        "id": "r_pE88rB5RNh",
        "colab": {
          "base_uri": "https://localhost:8080/"
        },
        "outputId": "6bec78cb-9731-4285-b8ad-93ce47a05be4"
      },
      "outputs": [
        {
          "output_type": "stream",
          "name": "stdout",
          "text": [
            "[[ 5  6  7  8  9]\n",
            " [ 0  1  2  3  4]\n",
            " [10 11 12 13 14]\n",
            " [15 16 17 18 19]\n",
            " [20 21 22 23 24]]\n"
          ]
        }
      ],
      "source": [
        "A = np.arange(25).reshape(5,5)\n",
        "A[[0,1]] = A[[1,0]]\n",
        "print(A)"
      ]
    },
    {
      "cell_type": "markdown",
      "metadata": {
        "id": "zOSxfHFv5RNh"
      },
      "source": [
        "#### 73. Consider a set of 10 triplets describing 10 triangles (with shared vertices), find the set of unique line segments composing all the  triangles (★★★) \n",
        "(**hint**: repeat, np.roll, np.sort, view, np.unique)"
      ]
    },
    {
      "cell_type": "code",
      "execution_count": null,
      "metadata": {
        "id": "m-N-bkfE5RNh"
      },
      "outputs": [],
      "source": []
    },
    {
      "cell_type": "markdown",
      "metadata": {
        "id": "Qek79JmH5RNi"
      },
      "source": [
        "#### 74. Given an array C that is a bincount, how to produce an array A such that np.bincount(A) == C? (★★★) \n",
        "(**hint**: np.repeat)"
      ]
    },
    {
      "cell_type": "code",
      "execution_count": 21,
      "metadata": {
        "id": "t1VNgWo25RNi",
        "colab": {
          "base_uri": "https://localhost:8080/"
        },
        "outputId": "43257e5f-89a7-438c-9d90-e9c703926a8d"
      },
      "outputs": [
        {
          "output_type": "stream",
          "name": "stdout",
          "text": [
            "[1 1 2 3 4 4 6]\n"
          ]
        }
      ],
      "source": [
        "C = np.bincount([1,1,2,3,4,4,6])\n",
        "A = np.repeat(np.arange(len(C)), C)\n",
        "print(A)"
      ]
    },
    {
      "cell_type": "markdown",
      "metadata": {
        "id": "E2HpOKZQ5RNi"
      },
      "source": [
        "#### 75. How to compute averages using a sliding window over an array? (★★★) \n",
        "(**hint**: np.cumsum)"
      ]
    },
    {
      "cell_type": "code",
      "execution_count": null,
      "metadata": {
        "id": "tu2nS9aa5RNi"
      },
      "outputs": [],
      "source": []
    },
    {
      "cell_type": "markdown",
      "metadata": {
        "id": "2YIrjO-15RNi"
      },
      "source": [
        "#### 76. Consider a one-dimensional array Z, build a two-dimensional array whose first row is (Z\\[0\\],Z\\[1\\],Z\\[2\\]) and each subsequent row is  shifted by 1 (last row should be (Z\\[-3\\],Z\\[-2\\],Z\\[-1\\]) (★★★) \n",
        "(**hint**: from numpy.lib import stride_tricks)"
      ]
    },
    {
      "cell_type": "code",
      "execution_count": null,
      "metadata": {
        "id": "kTOcJzVp5RNj"
      },
      "outputs": [],
      "source": []
    },
    {
      "cell_type": "markdown",
      "metadata": {
        "id": "7JYEQgVp5RNj"
      },
      "source": [
        "#### 77. How to negate a boolean, or to change the sign of a float inplace? (★★★) \n",
        "(**hint**: np.logical_not, np.negative)"
      ]
    },
    {
      "cell_type": "code",
      "execution_count": 22,
      "metadata": {
        "id": "niir7Bsp5RNj",
        "colab": {
          "base_uri": "https://localhost:8080/"
        },
        "outputId": "96660236-31a4-4a9c-e769-6ae164f17e29"
      },
      "outputs": [
        {
          "output_type": "execute_result",
          "data": {
            "text/plain": [
              "array([-0.22072   ,  0.01835054,  0.14479076,  0.42134192,  0.92800861,\n",
              "        0.15653857,  0.72472289,  0.12068087, -0.46009273,  0.85794863,\n",
              "        0.60609314, -0.60010876,  0.7241843 ,  0.46844444,  0.77640192,\n",
              "        0.32430768, -0.94238927, -0.24134779, -0.37448777, -0.30661884,\n",
              "        0.24415142, -0.20065944,  0.04290499, -0.94750718, -0.04472472,\n",
              "       -0.55490811,  0.06538959,  0.31457958,  0.49066076, -0.27685556,\n",
              "       -0.65908148,  0.42486599, -0.4198623 , -0.98064166, -0.65518912,\n",
              "        0.69791906, -0.55534836, -0.51548209,  0.13365675,  0.70400499,\n",
              "       -0.9812641 ,  0.74178532,  0.50749   , -0.09933552, -0.23608387,\n",
              "        0.90854404, -0.57594692,  0.50011939, -0.33145747, -0.32468003,\n",
              "       -0.95156743, -0.70384413, -0.51543632,  0.73636018, -0.59646841,\n",
              "        0.99898453, -0.30733837,  0.12923041,  0.70318576, -0.30002682,\n",
              "       -0.01274533,  0.95196808,  0.00566473, -0.65710839,  0.95633259,\n",
              "       -0.60571531,  0.86355566, -0.19674188, -0.96452757,  0.01457386,\n",
              "       -0.63904624, -0.103135  , -0.25955049, -0.63107031, -0.88879198,\n",
              "        0.99288961, -0.21538551, -0.25571867, -0.83597822, -0.73947822,\n",
              "        0.37263838, -0.68470718,  0.42896452,  0.26533584, -0.35087458,\n",
              "        0.39329208,  0.42897471, -0.05613963, -0.99286767, -0.02989774,\n",
              "       -0.5335632 ,  0.87233597, -0.23269314, -0.06827349, -0.91339423,\n",
              "        0.31827378, -0.13177617, -0.46748371, -0.35945725,  0.60715249])"
            ]
          },
          "metadata": {},
          "execution_count": 22
        }
      ],
      "source": [
        "Z = np.random.randint(0,2,100)\n",
        "np.logical_not(Z, out=Z)\n",
        "Z = np.random.uniform(-1.0,1.0,100)\n",
        "np.negative(Z, out=Z)"
      ]
    },
    {
      "cell_type": "markdown",
      "metadata": {
        "id": "GfNwQ9Nu5RNj"
      },
      "source": [
        "#### 78. Consider 2 sets of points P0,P1 describing lines (2d) and a point p, how to compute distance from p to each line i  (P0\\[i\\],P1\\[i\\])? (★★★)"
      ]
    },
    {
      "cell_type": "code",
      "execution_count": null,
      "metadata": {
        "id": "0EBzWzrv5RNj"
      },
      "outputs": [],
      "source": []
    },
    {
      "cell_type": "markdown",
      "metadata": {
        "id": "8No8tjj75RNj"
      },
      "source": [
        "#### 79. Consider 2 sets of points P0,P1 describing lines (2d) and a set of points P, how to compute distance from each point j (P\\[j\\]) to each line i (P0\\[i\\],P1\\[i\\])? (★★★)"
      ]
    },
    {
      "cell_type": "code",
      "execution_count": null,
      "metadata": {
        "id": "FLlqySKu5RNj"
      },
      "outputs": [],
      "source": []
    },
    {
      "cell_type": "markdown",
      "metadata": {
        "id": "1ENI3g4c5RNj"
      },
      "source": [
        "#### 80. Consider an arbitrary array, write a function that extract a subpart with a fixed shape and centered on a given element (pad with a `fill` value when necessary) (★★★) \n",
        "(**hint**: minimum, maximum)"
      ]
    },
    {
      "cell_type": "code",
      "execution_count": null,
      "metadata": {
        "id": "Xitkz_w75RNk"
      },
      "outputs": [],
      "source": []
    },
    {
      "cell_type": "markdown",
      "metadata": {
        "id": "QzyGb3FT5RNk"
      },
      "source": [
        "#### 81. Consider an array Z = \\[1,2,3,4,5,6,7,8,9,10,11,12,13,14\\], how to generate an array R = \\[\\[1,2,3,4\\], \\[2,3,4,5\\], \\[3,4,5,6\\], ..., \\[11,12,13,14\\]\\]? (★★★) \n",
        "(**hint**: stride\\_tricks.as\\_strided)"
      ]
    },
    {
      "cell_type": "code",
      "execution_count": null,
      "metadata": {
        "id": "NmGG-cwc5RNk"
      },
      "outputs": [],
      "source": []
    },
    {
      "cell_type": "markdown",
      "metadata": {
        "id": "Ht_c_KWH5RNk"
      },
      "source": [
        "#### 82. Compute a matrix rank (★★★) \n",
        "(**hint**: np.linalg.svd) (suggestion: np.linalg.svd)"
      ]
    },
    {
      "cell_type": "code",
      "execution_count": 23,
      "metadata": {
        "id": "wxrlWOkM5RNl",
        "colab": {
          "base_uri": "https://localhost:8080/"
        },
        "outputId": "2b1190f2-e77c-4672-c4c9-23ed08739d2e"
      },
      "outputs": [
        {
          "output_type": "stream",
          "name": "stdout",
          "text": [
            "10\n"
          ]
        }
      ],
      "source": [
        "Z = np.random.uniform(0,1,(10,10))\n",
        "U, S, V = np.linalg.svd(Z)\n",
        "rank = np.sum(S > 1e-10)\n",
        "print(rank)"
      ]
    },
    {
      "cell_type": "markdown",
      "metadata": {
        "id": "yLjpM3d55RNl"
      },
      "source": [
        "#### 83. How to find the most frequent value in an array? \n",
        "(**hint**: np.bincount, argmax)"
      ]
    },
    {
      "cell_type": "code",
      "execution_count": 26,
      "metadata": {
        "id": "qJ0vV1715RNl",
        "colab": {
          "base_uri": "https://localhost:8080/"
        },
        "outputId": "80637fbe-1a59-49d1-e39c-a79d34860e5f"
      },
      "outputs": [
        {
          "output_type": "stream",
          "name": "stdout",
          "text": [
            "[9 4 5 9 1 8 2 4 8 6 4 3 7 6 9 7 2 0 1 1 8 4 4 6 6 2 6 8 0 8]\n",
            "4\n"
          ]
        }
      ],
      "source": [
        " Z = np.random.randint(0,10,30)\n",
        " print(Z)\n",
        "print(np.bincount(Z).argmax())"
      ]
    },
    {
      "cell_type": "markdown",
      "metadata": {
        "id": "KqFQhIur5RNl"
      },
      "source": [
        "#### 84. Extract all the contiguous 3x3 blocks from a random 10x10 matrix (★★★) \n",
        "(**hint**: stride\\_tricks.as\\_strided)"
      ]
    },
    {
      "cell_type": "code",
      "execution_count": null,
      "metadata": {
        "id": "KBBLde-F5RNl"
      },
      "outputs": [],
      "source": []
    },
    {
      "cell_type": "markdown",
      "metadata": {
        "id": "GaJCoQmV5RNm"
      },
      "source": [
        "#### 85. Create a 2D array subclass such that Z\\[i,j\\] == Z\\[j,i\\] (★★★) \n",
        "(**hint**: class method)"
      ]
    },
    {
      "cell_type": "code",
      "execution_count": null,
      "metadata": {
        "id": "9vSp5z3B5RNm"
      },
      "outputs": [],
      "source": []
    },
    {
      "cell_type": "markdown",
      "metadata": {
        "id": "y5ZbhOGr5RNm"
      },
      "source": [
        "#### 86. Consider a set of p matrices wich shape (n,n) and a set of p vectors with shape (n,1). How to compute the sum of of the p matrix products at once? (result has shape (n,1)) (★★★) \n",
        "(**hint**: np.tensordot)"
      ]
    },
    {
      "cell_type": "code",
      "execution_count": null,
      "metadata": {
        "id": "JSXmcNeS5RNn"
      },
      "outputs": [],
      "source": []
    },
    {
      "cell_type": "markdown",
      "metadata": {
        "id": "xwaddXpn5RNn"
      },
      "source": [
        "#### 87. Consider a 16x16 array, how to get the block-sum (block size is 4x4)? (★★★) \n",
        "(**hint**: np.add.reduceat)"
      ]
    },
    {
      "cell_type": "code",
      "execution_count": 27,
      "metadata": {
        "id": "gRplmh9i5RNn",
        "colab": {
          "base_uri": "https://localhost:8080/"
        },
        "outputId": "2699200b-8f30-40c6-aca0-cd19df83aad9"
      },
      "outputs": [
        {
          "output_type": "stream",
          "name": "stdout",
          "text": [
            "[[16. 16. 16. 16.]\n",
            " [16. 16. 16. 16.]\n",
            " [16. 16. 16. 16.]\n",
            " [16. 16. 16. 16.]]\n"
          ]
        }
      ],
      "source": [
        "Z = np.ones((16,16))\n",
        "k = 4\n",
        "S = np.add.reduceat(np.add.reduceat(Z, np.arange(0, Z.shape[0], k), axis=0), np.arange(0, Z.shape[1], k), axis=1)\n",
        "print(S)"
      ]
    },
    {
      "cell_type": "markdown",
      "metadata": {
        "id": "mJ8FPSJW5RNn"
      },
      "source": [
        "#### 88. How to implement the Game of Life using numpy arrays? (★★★)"
      ]
    },
    {
      "cell_type": "code",
      "execution_count": null,
      "metadata": {
        "id": "nedihMMG5RNo"
      },
      "outputs": [],
      "source": []
    },
    {
      "cell_type": "markdown",
      "metadata": {
        "id": "9sBoTOed5RNo"
      },
      "source": [
        "#### 89. How to get the n largest values of an array (★★★) \n",
        "(**hint**: np.argsort | np.argpartition)"
      ]
    },
    {
      "cell_type": "code",
      "execution_count": null,
      "metadata": {
        "id": "Y7taDqZk5RNo"
      },
      "outputs": [],
      "source": []
    },
    {
      "cell_type": "markdown",
      "metadata": {
        "id": "-wO8eYKE5RNo"
      },
      "source": [
        "#### 90. Given an arbitrary number of vectors, build the cartesian product (every combinations of every item) (★★★) \n",
        "(**hint**: np.indices)"
      ]
    },
    {
      "cell_type": "code",
      "execution_count": null,
      "metadata": {
        "scrolled": true,
        "id": "ICKskd8t5RNo"
      },
      "outputs": [],
      "source": []
    },
    {
      "cell_type": "markdown",
      "metadata": {
        "id": "kG8yCFPb5RNp"
      },
      "source": [
        "#### 91. How to create a record array from a regular array? (★★★) \n",
        "(**hint**: np.core.records.fromarrays)"
      ]
    },
    {
      "cell_type": "code",
      "execution_count": null,
      "metadata": {
        "id": "kROFGfnw5RNp"
      },
      "outputs": [],
      "source": []
    },
    {
      "cell_type": "markdown",
      "metadata": {
        "id": "_L72hNOr5RNp"
      },
      "source": [
        "#### 92. Consider a large vector Z, compute Z to the power of 3 using 3 different methods (★★★) \n",
        "(**hint**: np.power, \\*, np.einsum)"
      ]
    },
    {
      "cell_type": "code",
      "execution_count": null,
      "metadata": {
        "id": "Xh3LT_BK5RNp"
      },
      "outputs": [],
      "source": []
    },
    {
      "cell_type": "markdown",
      "metadata": {
        "id": "Ps_4HD7R5RNp"
      },
      "source": [
        "#### 93. Consider two arrays A and B of shape (8,3) and (2,2). How to find rows of A that contain elements of each row of B regardless of the order of the elements in B? (★★★) \n",
        "(**hint**: np.where)"
      ]
    },
    {
      "cell_type": "code",
      "execution_count": null,
      "metadata": {
        "id": "ufDNe7be5RNq"
      },
      "outputs": [],
      "source": []
    },
    {
      "cell_type": "markdown",
      "metadata": {
        "id": "KLKhJmeD5RNq"
      },
      "source": [
        "#### 94. Considering a 10x3 matrix, extract rows with unequal values (e.g. \\[2,2,3\\]) (★★★)"
      ]
    },
    {
      "cell_type": "code",
      "execution_count": null,
      "metadata": {
        "id": "aibNHwpv5RNq"
      },
      "outputs": [],
      "source": []
    },
    {
      "cell_type": "markdown",
      "metadata": {
        "id": "gqzKFBA85RNq"
      },
      "source": [
        "#### 95. Convert a vector of ints into a matrix binary representation (★★★) \n",
        "(**hint**: np.unpackbits)"
      ]
    },
    {
      "cell_type": "code",
      "execution_count": 28,
      "metadata": {
        "id": "bmmN8xoQ5RNq",
        "colab": {
          "base_uri": "https://localhost:8080/"
        },
        "outputId": "7e1bd652-1a76-4347-8314-1a825837abe0"
      },
      "outputs": [
        {
          "output_type": "stream",
          "name": "stdout",
          "text": [
            "[[0 0 0 0 0 0 0 0]\n",
            " [0 0 0 0 0 0 0 1]\n",
            " [0 0 0 0 0 0 1 0]\n",
            " [0 0 0 0 0 0 1 1]\n",
            " [0 0 0 0 1 1 1 1]\n",
            " [0 0 0 1 0 0 0 0]\n",
            " [0 0 1 0 0 0 0 0]\n",
            " [0 1 0 0 0 0 0 0]\n",
            " [1 0 0 0 0 0 0 0]]\n"
          ]
        }
      ],
      "source": [
        "I = np.array([0, 1, 2, 3, 15, 16, 32, 64, 128], dtype=np.uint8)\n",
        "print(np.unpackbits(I[:, np.newaxis], axis=1))"
      ]
    },
    {
      "cell_type": "markdown",
      "metadata": {
        "id": "W1Au2r1b5RNr"
      },
      "source": [
        "#### 96. Given a two dimensional array, how to extract unique rows? (★★★) \n",
        "(**hint**: np.ascontiguousarray)"
      ]
    },
    {
      "cell_type": "code",
      "execution_count": 30,
      "metadata": {
        "id": "6h3Sg7xN5RNr",
        "colab": {
          "base_uri": "https://localhost:8080/"
        },
        "outputId": "662ee34f-6803-4fbf-bbed-d8772282f1e3"
      },
      "outputs": [
        {
          "output_type": "stream",
          "name": "stdout",
          "text": [
            "[[1. 1. 1. 1. 1. 1. 1. 1. 1. 1. 1. 1. 1. 1. 1. 1.]]\n"
          ]
        }
      ],
      "source": [
        "u = np.unique(Z, axis=0)\n",
        "print(u)"
      ]
    },
    {
      "cell_type": "markdown",
      "metadata": {
        "id": "XTGgCSJX5RNr"
      },
      "source": [
        "#### 97. Considering 2 vectors A & B, write the einsum equivalent of inner, outer, sum, and mul function (★★★) \n",
        "(**hint**: np.einsum)"
      ]
    },
    {
      "cell_type": "code",
      "execution_count": 31,
      "metadata": {
        "id": "Gku_tka-5RNr",
        "colab": {
          "base_uri": "https://localhost:8080/"
        },
        "outputId": "a767d519-46d2-4fa5-f5fe-4631098adedb"
      },
      "outputs": [
        {
          "output_type": "execute_result",
          "data": {
            "text/plain": [
              "array([[0.00601113, 0.01375183, 0.02073469, 0.00848594, 0.01676604,\n",
              "        0.02450947, 0.00572644, 0.01234764, 0.01302397, 0.02384157],\n",
              "       [0.22157759, 0.50690873, 0.76430534, 0.31280197, 0.61801647,\n",
              "        0.90344823, 0.21108349, 0.45514867, 0.48007904, 0.87882862],\n",
              "       [0.22200434, 0.50788502, 0.76577737, 0.31340442, 0.61920676,\n",
              "        0.90518825, 0.21149003, 0.45602528, 0.48100366, 0.88052122],\n",
              "       [0.16980903, 0.38847648, 0.58573592, 0.23972009, 0.47362543,\n",
              "        0.69236999, 0.16176674, 0.34880945, 0.36791518, 0.67350241],\n",
              "       [0.20218579, 0.46254562, 0.69741566, 0.28542649, 0.56392955,\n",
              "        0.82438119, 0.19261011, 0.41531544, 0.43806398, 0.80191621],\n",
              "       [0.10358587, 0.23697605, 0.35730705, 0.14623259, 0.28891809,\n",
              "        0.42235531, 0.09867996, 0.21277861, 0.22443337, 0.41084583],\n",
              "       [0.10025081, 0.22934636, 0.34580317, 0.14152448, 0.27961607,\n",
              "        0.40875714, 0.09550285, 0.20592798, 0.2172075 , 0.39761821],\n",
              "       [0.05628887, 0.1287735 , 0.19416173, 0.07946323, 0.15699896,\n",
              "        0.22950915, 0.05362299, 0.11562454, 0.12195777, 0.22325486],\n",
              "       [0.05730179, 0.13109078, 0.19765567, 0.08089317, 0.15982416,\n",
              "        0.23363917, 0.05458793, 0.11770521, 0.1241524 , 0.22727234],\n",
              "       [0.21135386, 0.48351966, 0.72903983, 0.2983691 , 0.58950082,\n",
              "        0.86176259, 0.20134397, 0.43414784, 0.4579279 , 0.83827894]])"
            ]
          },
          "metadata": {},
          "execution_count": 31
        }
      ],
      "source": [
        "M = np.random.uniform(0,1,10)\n",
        "N = np.random.uniform(0,1,10)\n",
        "np.einsum('i->', M)       \n",
        "np.einsum('i,i->i', M, N) \n",
        "np.einsum('i,i', M, N)    \n",
        "np.einsum('i,j->ij', M, N)"
      ]
    },
    {
      "cell_type": "markdown",
      "metadata": {
        "id": "df2ib_Fv5RNr"
      },
      "source": [
        "#### 98. Considering a path described by two vectors (X,Y), how to sample it using equidistant samples (★★★)? \n",
        "(**hint**: np.cumsum, np.interp)"
      ]
    },
    {
      "cell_type": "code",
      "execution_count": null,
      "metadata": {
        "collapsed": true,
        "id": "s6mGoZAl5RNs"
      },
      "outputs": [],
      "source": []
    },
    {
      "cell_type": "markdown",
      "metadata": {
        "id": "iMvlMzP95RNs"
      },
      "source": [
        "#### 99. Given an integer n and a 2D array X, select from X the rows which can be interpreted as draws from a multinomial distribution with n degrees, i.e., the rows which only contain integers and which sum to n. (★★★) \n",
        "(**hint**: np.logical\\_and.reduce, np.mod)"
      ]
    },
    {
      "cell_type": "code",
      "execution_count": null,
      "metadata": {
        "id": "DSCAnw_t5RNs"
      },
      "outputs": [],
      "source": []
    },
    {
      "cell_type": "markdown",
      "metadata": {
        "id": "8odRy9-T5RNs"
      },
      "source": [
        "#### 100. Compute bootstrapped 95% confidence intervals for the mean of a 1D array X (i.e., resample the elements of an array with replacement N times, compute the mean of each sample, and then compute percentiles over the means). (★★★) \n",
        "(**hint**: np.percentile)"
      ]
    },
    {
      "cell_type": "code",
      "execution_count": null,
      "metadata": {
        "id": "M5BTrnga5RNs"
      },
      "outputs": [],
      "source": []
    }
  ],
  "metadata": {
    "kernelspec": {
      "display_name": "Python 3",
      "language": "python",
      "name": "python3"
    },
    "language_info": {
      "codemirror_mode": {
        "name": "ipython",
        "version": 3
      },
      "file_extension": ".py",
      "mimetype": "text/x-python",
      "name": "python",
      "nbconvert_exporter": "python",
      "pygments_lexer": "ipython3",
      "version": "3.8.3"
    },
    "colab": {
      "name": "Numpy_tasks_1.ipynb",
      "provenance": [],
      "collapsed_sections": [
        "qZmIWyC-5RNM",
        "zpAyL-Z45RNM",
        "nQY-yr2Y5RNN",
        "wNz3yEQ35RNO",
        "Xw1rBNnJ5RNO",
        "dwbn-zmL5RNP",
        "tfy9Mg4U5RNP",
        "N-m_D9Hp5RNP",
        "I8KysTzX5RNQ",
        "sH1AiMTg5RNQ",
        "LAd8MyOR5RNR",
        "6IL2DcPB5RNR",
        "NTI0I4jb5RNU",
        "t43iBwY65RNa",
        "_uzcbz3k5RNb",
        "SbV9GMKG5RNb",
        "Kz-6pjMP5RNb",
        "BC9Fd1G35RNc",
        "H8r0dfWr5RNc",
        "qfi0OdMt5RNc",
        "l3UQjB2t5RNc",
        "IfTWfZD05RNd",
        "o-rw92GY5RNd",
        "SeeQA_iL5RNd",
        "_9yyfmII5RNe",
        "ed34v9s-5RNe",
        "NBCmPkQe5RNe",
        "B3sdvouu5RNe",
        "jMYWZSs25RNf",
        "tu4_PSW55RNf",
        "PdUU0Gly5RNf",
        "BBSN4BQV5RNg",
        "ArAbwwXg5RNg",
        "Qt8lJ90D5RNg",
        "elgONBU45RNh",
        "zOSxfHFv5RNh",
        "Qek79JmH5RNi",
        "E2HpOKZQ5RNi",
        "2YIrjO-15RNi",
        "7JYEQgVp5RNj",
        "GfNwQ9Nu5RNj",
        "8No8tjj75RNj",
        "1ENI3g4c5RNj",
        "QzyGb3FT5RNk",
        "Ht_c_KWH5RNk",
        "yLjpM3d55RNl",
        "KqFQhIur5RNl",
        "GaJCoQmV5RNm",
        "y5ZbhOGr5RNm",
        "xwaddXpn5RNn",
        "mJ8FPSJW5RNn",
        "9sBoTOed5RNo",
        "-wO8eYKE5RNo",
        "kG8yCFPb5RNp",
        "_L72hNOr5RNp",
        "Ps_4HD7R5RNp",
        "KLKhJmeD5RNq",
        "gqzKFBA85RNq",
        "W1Au2r1b5RNr",
        "XTGgCSJX5RNr",
        "df2ib_Fv5RNr",
        "iMvlMzP95RNs",
        "8odRy9-T5RNs"
      ]
    }
  },
  "nbformat": 4,
  "nbformat_minor": 0
}